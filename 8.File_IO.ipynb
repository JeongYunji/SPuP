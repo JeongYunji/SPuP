{
 "cells": [
  {
   "cell_type": "markdown",
   "metadata": {},
   "source": [
    "# Python에서의 파일 입출력"
   ]
  },
  {
   "cell_type": "markdown",
   "metadata": {},
   "source": [
    "* 프로그램 도중에 다른 파일을 불러들이거나, 다른 파일로 결과를 기록하는 것은 흔한 일이다.  \n",
    "\n",
    "* Python에서도 이를 위한 간편한 방법들을 제공한다.\n",
    "   * text 파일과 그 외의 파일들을 모두 불러올 수 있다.\n",
    "   \n",
    "* 그 외의 여러가지 옵션을 통해, 파일을 읽어 들이는 방식 등을 조정할 수 있다."
   ]
  },
  {
   "cell_type": "markdown",
   "metadata": {},
   "source": [
    "### 파일 열기\n",
    "\n",
    "* Python의 함수인 ```open```을 이용하여 파일을 열 수 있다.  \n",
    "https://docs.python.org/3/library/functions.html#open\n",
    "* 다음의 간단한 예제를 체크해 보자.\n",
    "  * 이 예제의 ex1.csv 파일은 간단한 텍스트 파일로 다음의 내용을 가지고 있다.\n",
    "  \n",
    "a,b,c,d,message  \n",
    "1,2,3,4,hello  \n",
    "5,6,7,8,world  \n",
    "9,10,11,12,foo  "
   ]
  },
  {
   "cell_type": "code",
   "execution_count": 1,
   "metadata": {},
   "outputs": [],
   "source": [
    "a_file = open(file = 'ex1.csv', mode = 'r')"
   ]
  },
  {
   "cell_type": "markdown",
   "metadata": {},
   "source": [
    "읽은 파일이 텍스트 파일인 경우 ```.readline()``` method를 통해 한 줄씩 차례로 읽을 수 있다."
   ]
  },
  {
   "cell_type": "code",
   "execution_count": 2,
   "metadata": {},
   "outputs": [
    {
     "data": {
      "text/plain": [
       "'a,b,c,d,message\\n'"
      ]
     },
     "execution_count": 2,
     "metadata": {},
     "output_type": "execute_result"
    }
   ],
   "source": [
    "a_file.readline()"
   ]
  },
  {
   "cell_type": "code",
   "execution_count": 3,
   "metadata": {},
   "outputs": [
    {
     "data": {
      "text/plain": [
       "'1,2,3,4,hello\\n'"
      ]
     },
     "execution_count": 3,
     "metadata": {},
     "output_type": "execute_result"
    }
   ],
   "source": [
    "a_file.readline()"
   ]
  },
  {
   "cell_type": "code",
   "execution_count": 4,
   "metadata": {},
   "outputs": [
    {
     "data": {
      "text/plain": [
       "'5,6,7,8,world\\n'"
      ]
     },
     "execution_count": 4,
     "metadata": {},
     "output_type": "execute_result"
    }
   ],
   "source": [
    "a_file.readline()"
   ]
  },
  {
   "cell_type": "code",
   "execution_count": 5,
   "metadata": {},
   "outputs": [
    {
     "data": {
      "text/plain": [
       "'9,10,11,12,foo'"
      ]
     },
     "execution_count": 5,
     "metadata": {},
     "output_type": "execute_result"
    }
   ],
   "source": [
    "a_file.readline()"
   ]
  },
  {
   "cell_type": "code",
   "execution_count": 6,
   "metadata": {},
   "outputs": [
    {
     "data": {
      "text/plain": [
       "''"
      ]
     },
     "execution_count": 6,
     "metadata": {},
     "output_type": "execute_result"
    }
   ],
   "source": [
    "# 마지막 라인까지 모두 읽었음\n",
    "a_file.readline()"
   ]
  },
  {
   "cell_type": "markdown",
   "metadata": {},
   "source": [
    "작업을 마친 후에는 ```.close()``` method를 이용해 종료한다."
   ]
  },
  {
   "cell_type": "code",
   "execution_count": 7,
   "metadata": {},
   "outputs": [],
   "source": [
    "a_file.close()"
   ]
  },
  {
   "cell_type": "markdown",
   "metadata": {},
   "source": [
    "위의 파일 라인별 read 과정은 반복 작업이라는 점에 착안하여 ```for```를 이용할 수 있다."
   ]
  },
  {
   "cell_type": "code",
   "execution_count": 8,
   "metadata": {},
   "outputs": [
    {
     "name": "stdout",
     "output_type": "stream",
     "text": [
      "a,b,c,d,message\n",
      "\n",
      "1,2,3,4,hello\n",
      "\n",
      "5,6,7,8,world\n",
      "\n",
      "9,10,11,12,foo\n"
     ]
    }
   ],
   "source": [
    "a_file = open(file = 'ex1.csv', mode = 'r')\n",
    "for line in a_file.readlines():\n",
    "    print(line)\n",
    "a_file.close()"
   ]
  },
  {
   "cell_type": "markdown",
   "metadata": {},
   "source": [
    "```.read()``` method를 이용해 모든 라인을 한 번에 읽을 수 있다."
   ]
  },
  {
   "cell_type": "code",
   "execution_count": 9,
   "metadata": {},
   "outputs": [
    {
     "name": "stdout",
     "output_type": "stream",
     "text": [
      "a,b,c,d,message\n",
      "1,2,3,4,hello\n",
      "5,6,7,8,world\n",
      "9,10,11,12,foo\n"
     ]
    }
   ],
   "source": [
    "a_file = open(file = 'ex1.csv', mode = 'r')\n",
    "print(a_file.read())"
   ]
  },
  {
   "cell_type": "code",
   "execution_count": 10,
   "metadata": {},
   "outputs": [],
   "source": [
    "# 작업 종료\n",
    "a_file.close()"
   ]
  },
  {
   "cell_type": "markdown",
   "metadata": {},
   "source": [
    "한편, 위의 file 경로에서는 상대 주소를 이용하였다. 즉, 현재 working directory에 존재하는 ex1.csv 파일을 불러온 것이다.  \n",
    "물론 절대 경로를 이용하여 파일을 불러올 수도 있다. 이때는 해당 파일의 정확한 경로를 모두 ```file``` 인자로 전달하여야 한다."
   ]
  },
  {
   "cell_type": "markdown",
   "metadata": {},
   "source": [
    "그림 파일 등 텍스트 파일이 아닌 경우도 불러올 수 있다."
   ]
  },
  {
   "cell_type": "code",
   "execution_count": 11,
   "metadata": {},
   "outputs": [],
   "source": [
    "bfin = open(file = \"yu_logo.png\", mode = 'rb')"
   ]
  },
  {
   "cell_type": "markdown",
   "metadata": {},
   "source": [
    "불러들인 ```bfin```를 여러 응용 방안에 활용할 수 있겠지만, 이 강의에서는 자세히 다루지는 않는다. \n",
    "\n",
    "다음과 같이 종료하여 마무리 하자."
   ]
  },
  {
   "cell_type": "code",
   "execution_count": 12,
   "metadata": {},
   "outputs": [],
   "source": [
    "bfin.close()"
   ]
  },
  {
   "cell_type": "markdown",
   "metadata": {},
   "source": [
    "그림을 jupyter notebook에 보여주기 위한 목적이라면 다른 라이브러리를 이용해야 한다.\n",
    "\n",
    "여러 방법이 있겠지만 ```matplotlib```를 이용해 본다."
   ]
  },
  {
   "cell_type": "code",
   "execution_count": 13,
   "metadata": {},
   "outputs": [
    {
     "data": {
      "text/plain": [
       "<matplotlib.image.AxesImage at 0x1ef5dc6f048>"
      ]
     },
     "execution_count": 13,
     "metadata": {},
     "output_type": "execute_result"
    },
    {
     "data": {
      "image/png": "[encoded data removed]",
      "text/plain": [
       "<matplotlib.figure.Figure at 0x1ef5cbe1da0>"
      ]
     },
     "metadata": {
      "needs_background": "light"
     },
     "output_type": "display_data"
    }
   ],
   "source": [
    "%matplotlib inline    \n",
    "# 해당 모듈 \n",
    "import matplotlib.image as mpimg \n",
    "import matplotlib.pyplot as plt \n",
    "  \n",
    "# 그림 읽어들이기\n",
    "img = mpimg.imread('yu_logo.png') \n",
    "  \n",
    "# 노트북에 출력하기\n",
    "plt.imshow(img) "
   ]
  },
  {
   "cell_type": "markdown",
   "metadata": {},
   "source": [
    "### 파일 작성\n",
    "\n",
    "* 파일에 텍스트를 작성할 때도 ```open``` 함수를 이용한다.\n",
    "* 단, 이 경우에는 ```mode``` 인자가 ```w```가 된다."
   ]
  },
  {
   "cell_type": "code",
   "execution_count": 14,
   "metadata": {},
   "outputs": [],
   "source": [
    "fout = open(\"my_test.txt\", \"w\")\n",
    "\n",
    "fout.write('''\n",
    "It was the best of times, it was the worst of times,\n",
    "it was the age of wisdom, it was the age of foolishness,\n",
    "it was the epoch of belief, it was the epoch of incredulity,\n",
    "it was the season of Light, it was the season of Darkness,\n",
    "it was the spring of hope, it was the winter of despair,\n",
    "we had everything before us, we had nothing before us,\n",
    "we were all going direct to Heaven, we were all going direct the other way -\n",
    "in short, the period was so far like the present period,\n",
    "that some of its noisiest authorities insisted on its being received,\n",
    "for good or for evil, in the superlative degree of comparison only.\n",
    "\n",
    "Tale of Two Cities\n",
    "by Charles Dickens\n",
    "''')\n",
    "\n",
    "fout.close()"
   ]
  },
  {
   "cell_type": "markdown",
   "metadata": {},
   "source": [
    "다시 읽어 파일이 잘 저장되었는지 확인해 보자."
   ]
  },
  {
   "cell_type": "code",
   "execution_count": 15,
   "metadata": {},
   "outputs": [
    {
     "name": "stdout",
     "output_type": "stream",
     "text": [
      "\n",
      "It was the best of times, it was the worst of times,\n",
      "it was the age of wisdom, it was the age of foolishness,\n",
      "it was the epoch of belief, it was the epoch of incredulity,\n",
      "it was the season of Light, it was the season of Darkness,\n",
      "it was the spring of hope, it was the winter of despair,\n",
      "we had everything before us, we had nothing before us,\n",
      "we were all going direct to Heaven, we were all going direct the other way -\n",
      "in short, the period was so far like the present period,\n",
      "that some of its noisiest authorities insisted on its being received,\n",
      "for good or for evil, in the superlative degree of comparison only.\n",
      "\n",
      "Tale of Two Cities\n",
      "by Charles Dickens\n",
      "\n"
     ]
    }
   ],
   "source": [
    "fin = open(\"my_test.txt\", \"r\")\n",
    "print(fin.read())\n",
    "fin.close()"
   ]
  },
  {
   "cell_type": "markdown",
   "metadata": {},
   "source": [
    "물론 jupyter notebook의 홈 화면에서 my_test.txt 파일이 생성된 것을 확인할 수 있다.\n",
    "\n",
    "클릭하여 내용을 확인해 볼 수 있다.\n",
    "\n",
    "<img src=\"./figure/my_test.png\" width=\"300\">"
   ]
  },
  {
   "cell_type": "markdown",
   "metadata": {},
   "source": [
    "### ```with```\n",
    "\n",
    "파일 사용을 마칠 때마다 ```close()```를 취하는 것이 번거롭다면 ```with```구문을 이용할 수 있다."
   ]
  },
  {
   "cell_type": "code",
   "execution_count": 16,
   "metadata": {},
   "outputs": [
    {
     "name": "stdout",
     "output_type": "stream",
     "text": [
      "\n",
      "It was the best of times, it was the worst of times,\n",
      "it was the age of wisdom, it was the age of foolishness,\n",
      "it was the epoch of belief, it was the epoch of incredulity,\n",
      "it was the season of Light, it was the season of Darkness,\n",
      "it was the spring of hope, it was the winter of despair,\n",
      "we had everything before us, we had nothing before us,\n",
      "we were all going direct to Heaven, we were all going direct the other way -\n",
      "in short, the period was so far like the present period,\n",
      "that some of its noisiest authorities insisted on its being received,\n",
      "for good or for evil, in the superlative degree of comparison only.\n",
      "\n",
      "Tale of Two Cities\n",
      "by Charles Dickens\n",
      "\n"
     ]
    }
   ],
   "source": [
    "with open(\"my_test.txt\") as fin:\n",
    "    print(fin.read())"
   ]
  },
  {
   "cell_type": "markdown",
   "metadata": {},
   "source": [
    "위 의 ```with``` 구문에서는 ```with```내의 블록 코드가 종료됨과 동시에, 파일을 자동으로 ```close``` 하여 준다.\n",
    "\n",
    "따라서 파일 입출력 시에는 ```with``` 구문을 적극적으로 활용하는 것이 편리하다."
   ]
  },
  {
   "cell_type": "markdown",
   "metadata": {},
   "source": [
    "#### 예제 : txt 파일을 읽고, 각 라인의 앞에 라인 번호 매기기"
   ]
  },
  {
   "cell_type": "code",
   "execution_count": 17,
   "metadata": {},
   "outputs": [],
   "source": [
    "def add_nums(filename):\n",
    "    result = []\n",
    "    with open(filename) as fin:\n",
    "        for num, line in enumerate(fin):\n",
    "            result.append(str(num) + \". \" + line)\n",
    "    return result    "
   ]
  },
  {
   "cell_type": "code",
   "execution_count": 18,
   "metadata": {},
   "outputs": [
    {
     "data": {
      "text/plain": [
       "['0. \\n',\n",
       " '1. It was the best of times, it was the worst of times,\\n',\n",
       " '2. it was the age of wisdom, it was the age of foolishness,\\n',\n",
       " '3. it was the epoch of belief, it was the epoch of incredulity,\\n',\n",
       " '4. it was the season of Light, it was the season of Darkness,\\n',\n",
       " '5. it was the spring of hope, it was the winter of despair,\\n',\n",
       " '6. we had everything before us, we had nothing before us,\\n',\n",
       " '7. we were all going direct to Heaven, we were all going direct the other way -\\n',\n",
       " '8. in short, the period was so far like the present period,\\n',\n",
       " '9. that some of its noisiest authorities insisted on its being received,\\n',\n",
       " '10. for good or for evil, in the superlative degree of comparison only.\\n',\n",
       " '11. \\n',\n",
       " '12. Tale of Two Cities\\n',\n",
       " '13. by Charles Dickens\\n']"
      ]
     },
     "execution_count": 18,
     "metadata": {},
     "output_type": "execute_result"
    }
   ],
   "source": [
    "add_nums(\"my_test.txt\")"
   ]
  }
 ],
 "metadata": {
  "kernelspec": {
   "display_name": "Python 3",
   "language": "python",
   "name": "python3"
  },
  "language_info": {
   "codemirror_mode": {
    "name": "ipython",
    "version": 3
   },
   "file_extension": ".py",
   "mimetype": "text/x-python",
   "name": "python",
   "nbconvert_exporter": "python",
   "pygments_lexer": "ipython3",
   "version": "3.6.4"
  }
 },
 "nbformat": 4,
 "nbformat_minor": 2
}

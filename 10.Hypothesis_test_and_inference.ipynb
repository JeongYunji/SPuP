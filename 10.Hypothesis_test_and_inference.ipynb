{
 "cells": [
  {
   "cell_type": "markdown",
   "metadata": {},
   "source": [
    "## 통계적 가설 검정\n",
    "\n",
    "이 단원에서는 통계적 가설 검정을 위한 함수들을 직접 작성하고, 활용하여 본다.\n",
    "\n",
    "통계적 가설의 예\n",
    " * 이 동전은 공평하다.\n",
    " * 데이터 과학자들은 Python을 R보다 선호한다.\n",
    " * 사람들은 인터넷 서핑 중 닫힘 버튼이 매우 작아 닫기 짜증나는 팝업 광고가 나타나면 정성들여 조그만 닫힘 버튼에 마우스 커서를 올린 후 클릭하여 팝업창을 없앤 후 페이지 내용을 읽기 보다는 그 페이지를 떠나 버리는 경향이 강하다.\n",
    "\n",
    "귀무 가설 $H_0$\n",
    " * 기각할지 말지 결정하는 가설\n",
    " \n",
    "대립 가설 $H_1$\n",
    " * 귀무 가설과 비교되는 위치에 있는 가설"
   ]
  },
  {
   "attachments": {},
   "cell_type": "markdown",
   "metadata": {},
   "source": [
    "### 동전 던지기\n",
    "\n",
    "동전이 공평한지 검사하는 간단한 통계 검정을 생각하자.\n",
    "\n",
    "* $H_0$ : 앞면이 나올 확률 $p=0.5$\n",
    "* $H_1 : p \\neq 0.5$\n",
    "* $n$번 동전을 던졌을 때 앞면이 나온 횟수를 $X$라 하면\n",
    "$$𝑋 \\sim Binomial(n,p) $$\n"
   ]
  },
  {
   "cell_type": "code",
   "execution_count": 3,
   "metadata": {},
   "outputs": [],
   "source": [
    "# 정규분포의 근사\n",
    "def normal_approximation_to_binomial(n, p):\n",
    "    mu = p * n\n",
    "    sigma = math.sqrt(p * (1-p) * n)\n",
    "    return mu, sigma"
   ]
  },
  {
   "cell_type": "markdown",
   "metadata": {},
   "source": [
    "다음은 이전에 작성했던 정규분포의 cdf와 cdf의 역함수를 구현한 함수들이다."
   ]
  },
  {
   "cell_type": "code",
   "execution_count": 6,
   "metadata": {},
   "outputs": [],
   "source": [
    "# 정규분포의 cdf\n",
    "\n",
    "import math\n",
    "def normal_cdf(x, mu=0, sigma=1):\n",
    "    return (1+math.erf((x-mu)/math.sqrt(2)/sigma))/2\n"
   ]
  },
  {
   "cell_type": "code",
   "execution_count": 7,
   "metadata": {},
   "outputs": [],
   "source": [
    "# 정규분포의 역함수\n",
    "\n",
    "def inverse_normal_cdf(p, mu=0, sigma=1, tolerance=0.00001):\n",
    "    if mu != 0 or sigma != 1:\n",
    "        return mu + sigma * inverse_normal_cdf(p, tolerance=tolerance)\n",
    "\n",
    "    low_z, low_p = -10.0, 0                 # normal_cdf(-10)은 0과 매우 가까움\n",
    "    hi_z,  hi_p  =  10.0, 1                 # normal_cdf(10)은 1과 매우 가까움\n",
    "    while hi_p - low_p > tolerance:\n",
    "        mid_z = (low_z + hi_z) / 2          # 중앙값\n",
    "        mid_p = normal_cdf(mid_z)           # 중앙값의 cdf\n",
    "        if mid_p < p:                       # 중앙값이 아직 작으면 윗쪽을 탐색\n",
    "            low_z, low_p = mid_z, mid_p\n",
    "        elif mid_p > p:                     # 중앙값이 아직 크면, 아랫쪽을 탐색\n",
    "            hi_z, hi_p = mid_z, mid_p\n",
    "        else:\n",
    "            break\n",
    "    return mid_z"
   ]
  },
  {
   "cell_type": "markdown",
   "metadata": {},
   "source": [
    "물론 위 함수들은 연습의 목적으로 직접 만들어 보았지만, 이 과목 외에서 실제 정규분포 관련함수를 다루어야 될 필요가 있다면, Python 모듈에 이미 존재하는 함수를 이용하는 것이 좋다.\n",
    " * from scipy.stats import norm를 이용한다.\n",
    " * norm.cdf(x, loc=0, scale=1)  : 누적분포함수\n",
    " * norm.pdf(x, loc=0, scale=1)  : 확률밀도함수\n",
    " * norm.ppf(q, loc=0, scale=1)  : 누적분포함수의 역함수\n",
    " \n",
    "scipy.stats.norm에서 제공하는 함수와 직접 만든 함수를 비교해 보자."
   ]
  },
  {
   "cell_type": "code",
   "execution_count": 8,
   "metadata": {},
   "outputs": [
    {
     "data": {
      "text/plain": [
       "0.9750021048517795"
      ]
     },
     "execution_count": 8,
     "metadata": {},
     "output_type": "execute_result"
    }
   ],
   "source": [
    "from scipy.stats import norm\n",
    "norm.cdf(1.96)"
   ]
  },
  {
   "cell_type": "code",
   "execution_count": 9,
   "metadata": {},
   "outputs": [
    {
     "data": {
      "text/plain": [
       "0.9750021048517796"
      ]
     },
     "execution_count": 9,
     "metadata": {},
     "output_type": "execute_result"
    }
   ],
   "source": [
    "normal_cdf(1.96)"
   ]
  },
  {
   "cell_type": "code",
   "execution_count": 10,
   "metadata": {},
   "outputs": [
    {
     "data": {
      "text/plain": [
       "1.959963984540054"
      ]
     },
     "execution_count": 10,
     "metadata": {},
     "output_type": "execute_result"
    }
   ],
   "source": [
    "norm.ppf(0.975)"
   ]
  },
  {
   "cell_type": "code",
   "execution_count": 12,
   "metadata": {},
   "outputs": [
    {
     "data": {
      "text/plain": [
       "1.959991455078125"
      ]
     },
     "execution_count": 12,
     "metadata": {},
     "output_type": "execute_result"
    }
   ],
   "source": [
    "inverse_normal_cdf(0.975)"
   ]
  },
  {
   "attachments": {},
   "cell_type": "markdown",
   "metadata": {},
   "source": [
    "### 다양한 정규분포 관련 함수를 직접 만들어 보기\n",
    "\n",
    "주어진 값보다 작을 확률"
   ]
  },
  {
   "cell_type": "code",
   "execution_count": 13,
   "metadata": {},
   "outputs": [],
   "source": [
    "normal_probability_below = normal_cdf"
   ]
  },
  {
   "cell_type": "markdown",
   "metadata": {},
   "source": [
    "주어진 값보다 높을 확률"
   ]
  },
  {
   "cell_type": "code",
   "execution_count": 14,
   "metadata": {},
   "outputs": [],
   "source": [
    "def normal_probability_above(lo, mu=0, sigma=1):\n",
    "    return 1-normal_cdf(lo, mu, sigma)"
   ]
  },
  {
   "cell_type": "markdown",
   "metadata": {},
   "source": [
    "주어진 두 값 사이에 위치할 확률"
   ]
  },
  {
   "cell_type": "code",
   "execution_count": 18,
   "metadata": {},
   "outputs": [],
   "source": [
    "def normal_probability_between(lo, hi, mu=0, sigma=1):\n",
    "    return normal_cdf(hi, mu, sigma) - normal_cdf(lo, mu, sigma)"
   ]
  },
  {
   "attachments": {},
   "cell_type": "markdown",
   "metadata": {},
   "source": [
    "주어진 두 값의 바깥에 위치할 확률"
   ]
  },
  {
   "cell_type": "code",
   "execution_count": 19,
   "metadata": {},
   "outputs": [],
   "source": [
    "def normal_probability_outside(lo, hi, mu=0, sigma=1):\n",
    "    return 1- normal_probability_between(lo, hi, mu, sigma)"
   ]
  },
  {
   "cell_type": "markdown",
   "metadata": {},
   "source": [
    "$𝑃(𝑍≤𝑧)=probability$ 가 되게 하는 $z$ 반환"
   ]
  },
  {
   "cell_type": "code",
   "execution_count": 20,
   "metadata": {},
   "outputs": [],
   "source": [
    "def normal_upper_bound(probability, mu=0, sigma=1):\n",
    "    return inverse_normal_cdf(probability, mu, sigma)"
   ]
  },
  {
   "cell_type": "markdown",
   "metadata": {},
   "source": [
    "$ 𝑃(𝑍≥𝑧)=probability$ 가 되게 하는 $z$ 반환"
   ]
  },
  {
   "cell_type": "code",
   "execution_count": 23,
   "metadata": {},
   "outputs": [],
   "source": [
    "def normal_lower_bound(probability, mu=0, sigma=1):\n",
    "    return inverse_normal_cdf(1-probability, mu, sigma)"
   ]
  },
  {
   "cell_type": "markdown",
   "metadata": {},
   "source": [
    "$𝑃(lb ≤𝑍≤ub )=probability$ 가 되게 하는 $lb, ub$ 반환"
   ]
  },
  {
   "cell_type": "code",
   "execution_count": 34,
   "metadata": {},
   "outputs": [],
   "source": [
    "def normal_two_sided_bounds(probability, mu=0, sigma=1):\n",
    "    tail_probability = (1 - probability) / 2\n",
    "    upper_bound = normal_lower_bound(tail_probability, mu, sigma)\n",
    "    lower_bound = normal_upper_bound(tail_probability, mu, sigma)\n",
    "    return lower_bound, upper_bound"
   ]
  },
  {
   "attachments": {},
   "cell_type": "markdown",
   "metadata": {},
   "source": [
    "### 가설 검정\n",
    "\n",
    "동전을 1000회 던졌다고 가정, $𝑋$ : 총 앞면의 개수\n",
    "\n",
    "$H_0$ : 동전은 공평하다.\n",
    "\n",
    "$H_0$ 가정에서 $𝑋$는 평균 50, 표준편차 15.8의 정규 분포에 근사"
   ]
  },
  {
   "cell_type": "code",
   "execution_count": 35,
   "metadata": {},
   "outputs": [],
   "source": [
    "mu_0, sigma_0 = normal_approximation_to_binomial(1000, 0.5)"
   ]
  },
  {
   "cell_type": "markdown",
   "metadata": {},
   "source": [
    "$𝛼=0.05$ : 유의 수준, Type 1 오류가 발생할 확률\n",
    "\n",
    "만약 $𝑋$가 다음의 범위를 넘어서면 $H_0$ 기각"
   ]
  },
  {
   "cell_type": "code",
   "execution_count": 36,
   "metadata": {},
   "outputs": [
    {
     "data": {
      "text/plain": [
       "(469.00981403742765, 530.9901859625724)"
      ]
     },
     "execution_count": 36,
     "metadata": {},
     "output_type": "execute_result"
    }
   ],
   "source": [
    "normal_two_sided_bounds(0.95, mu_0, sigma_0)   # (469,  531)"
   ]
  },
  {
   "attachments": {},
   "cell_type": "markdown",
   "metadata": {},
   "source": [
    "#### 단측 검정\n",
    "\n",
    "$H_0$ : 동전은 공평하다.\n",
    "\n",
    "$H_1$ : 앞면이 많이 나오도록 설계되어 있다.\n",
    "\n",
    "기각역의 범위를 구함에 있어 한 쪽의 꼬리만 생각하면 됨"
   ]
  },
  {
   "cell_type": "code",
   "execution_count": 38,
   "metadata": {},
   "outputs": [
    {
     "data": {
      "text/plain": [
       "526.0069061567574"
      ]
     },
     "execution_count": 38,
     "metadata": {},
     "output_type": "execute_result"
    }
   ],
   "source": [
    "hi = normal_upper_bound(0.95, mu_0, sigma_0)  # 526<531\n",
    "\n",
    "hi"
   ]
  },
  {
   "attachments": {},
   "cell_type": "markdown",
   "metadata": {},
   "source": [
    "### p-value를 이용한 양측 검정\n",
    "\n",
    "기각역을 찾는 대신 p-value를 이용하여 가설 검정"
   ]
  },
  {
   "cell_type": "code",
   "execution_count": 39,
   "metadata": {},
   "outputs": [],
   "source": [
    "def two_sided_p_value(x, mu=0, sigma=1):\n",
    "    if x>= mu:\n",
    "        return 2*normal_probability_above(x, mu, sigma)\n",
    "    else:\n",
    "        return 2*normal_probability_below(x, mu, sigma)"
   ]
  },
  {
   "cell_type": "markdown",
   "metadata": {},
   "source": [
    "만약 530개의 앞면을 관찰했다면\n",
    " * continuity correction 때문에 530 대신 529.5 이용"
   ]
  },
  {
   "cell_type": "code",
   "execution_count": 40,
   "metadata": {},
   "outputs": [
    {
     "data": {
      "text/plain": [
       "0.06207721579598857"
      ]
     },
     "execution_count": 40,
     "metadata": {},
     "output_type": "execute_result"
    }
   ],
   "source": [
    "two_sided_p_value(529.5, mu_0, sigma_0)  # 0.062\n"
   ]
  },
  {
   "cell_type": "markdown",
   "metadata": {},
   "source": [
    "p-value$ = 0.062 > 0.05(=𝛼)$ 이기 때문에 $H_0$를 기각하지 않음"
   ]
  },
  {
   "cell_type": "markdown",
   "metadata": {},
   "source": [
    "### 단측 검정에서 p-value\n",
    "\n",
    "기존의 normal_probability_above/below를 이용하여 p-value를 계산할 수 있다."
   ]
  },
  {
   "cell_type": "code",
   "execution_count": 41,
   "metadata": {},
   "outputs": [],
   "source": [
    "upper_p_value = normal_probability_above\n",
    "lower_p_value = normal_probability_below"
   ]
  },
  {
   "cell_type": "code",
   "execution_count": 42,
   "metadata": {},
   "outputs": [
    {
     "data": {
      "text/plain": [
       "0.06062885772582083"
      ]
     },
     "execution_count": 42,
     "metadata": {},
     "output_type": "execute_result"
    }
   ],
   "source": [
    "# 525개의 앞면이 나온 경우 단측 검정\n",
    "upper_p_value(524.5, mu_0, sigma_0)   #0.061"
   ]
  },
  {
   "cell_type": "markdown",
   "metadata": {},
   "source": [
    " => 𝛼=0.05기준으로 귀무가설 기각 안 함"
   ]
  },
  {
   "cell_type": "code",
   "execution_count": 44,
   "metadata": {},
   "outputs": [
    {
     "data": {
      "text/plain": [
       "0.04686839508859242"
      ]
     },
     "execution_count": 44,
     "metadata": {},
     "output_type": "execute_result"
    }
   ],
   "source": [
    "# 527개의 앞면이 나온 경우 단측 검정\n",
    "upper_p_value(526.5, mu_0, sigma_0)    #0.047"
   ]
  },
  {
   "cell_type": "markdown",
   "metadata": {},
   "source": [
    " => 𝛼=0.05기준으로 귀무가설 기각"
   ]
  },
  {
   "attachments": {},
   "cell_type": "markdown",
   "metadata": {},
   "source": [
    "### 시뮬레이션을 통한 확인\n",
    "\n",
    "100000의 시뮬레이션 실험을 통해, 총 앞면의 횟수가 $(470, 530)$을 넘어가는 extreme 사건의 개수를 합산\n",
    "* 여기서 각각의 시뮬레이션 실험은 동전을 1000회 던지는 실험\n",
    "* $(470,  530)$가 $\\alpha=0.05$ 수준에서 양측 검정의 채택역이므로, 대략 5%의 데이터가 집계될 것으로 예상"
   ]
  },
  {
   "cell_type": "code",
   "execution_count": 50,
   "metadata": {},
   "outputs": [
    {
     "name": "stdout",
     "output_type": "stream",
     "text": [
      "0.06282\n"
     ]
    }
   ],
   "source": [
    "import random\n",
    "extreme_value_count = 0\n",
    "for _ in range(100000):\n",
    "    num_heads = sum(1 if random.random() < 0.5 else 0\n",
    "                    for _ in range(1000))\n",
    "    if num_heads >= 530 or num_heads <= 470:\n",
    "        extreme_value_count += 1\n",
    "print(extreme_value_count/100000)"
   ]
  },
  {
   "cell_type": "code",
   "execution_count": 52,
   "metadata": {},
   "outputs": [
    {
     "name": "stdout",
     "output_type": "stream",
     "text": [
      "454\n"
     ]
    }
   ],
   "source": [
    "### P-hacking\n",
    "\n",
    "#실험을 무수히 많이 실행하다 보면, 원하는 p-value를 얻을 수 있다.\n",
    "\n",
    "def run_experiment():\n",
    "    return [random.random() < 0.5 for _ in range(1000)]\n",
    "\n",
    "def reject_fariness(experiment):\n",
    "    num_heads = sum(experiment)\n",
    "    return num_heads < 469 or num_heads > 531\n",
    "\n",
    "experiments = [run_experiment() for _ in range(10000)]\n",
    "num_rejections = len([experiment for experiment in experiments if reject_fariness(experiment)])\n",
    "print(num_rejections)\n"
   ]
  }
 ],
 "metadata": {
  "kernelspec": {
   "display_name": "Python 3",
   "language": "python",
   "name": "python3"
  },
  "language_info": {
   "codemirror_mode": {
    "name": "ipython",
    "version": 3
   },
   "file_extension": ".py",
   "mimetype": "text/x-python",
   "name": "python",
   "nbconvert_exporter": "python",
   "pygments_lexer": "ipython3",
   "version": "3.6.4"
  }
 },
 "nbformat": 4,
 "nbformat_minor": 2
}

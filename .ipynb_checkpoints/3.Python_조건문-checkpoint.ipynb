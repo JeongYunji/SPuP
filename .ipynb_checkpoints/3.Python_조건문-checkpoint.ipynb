{
 "cells": [
  {
   "cell_type": "markdown",
   "metadata": {},
   "source": [
    "### Statement\n",
    "\n",
    "Python interpreter가 실행 가능한 문법에 옳은 문장들\n",
    "* 1 + 2\n",
    "* x = 7\n",
    "* print \"Hello\"\n",
    "* newstring = \"ABCD\".lower()\n",
    "* 조건문\n",
    "* 반복문\n"
   ]
  }
 ],
 "metadata": {
  "kernelspec": {
   "display_name": "Python 2",
   "language": "python",
   "name": "python2"
  },
  "language_info": {
   "codemirror_mode": {
    "name": "ipython",
    "version": 2
   },
   "file_extension": ".py",
   "mimetype": "text/x-python",
   "name": "python",
   "nbconvert_exporter": "python",
   "pygments_lexer": "ipython2",
   "version": "2.7.13"
  }
 },
 "nbformat": 4,
 "nbformat_minor": 2
}

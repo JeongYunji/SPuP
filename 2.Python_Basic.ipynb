{
 "cells": [
  {
   "cell_type": "markdown",
   "metadata": {},
   "source": [
    "### Python 프로그램\n",
    "\n",
    "* Python 프로그램의 소스 코드는 일련의 정의와 명령문으로 구성된다.\n",
    "\n",
    "* Python 프로그램이나 소느 코드는 스크립트(script)라고도 불림.\n",
    "\n",
    "* 프로그램을 작성하는 사람이 command 혹은 statement라고 불리는 문장들을 작성하여, 이 문장들을 통해 Python 인터프리터가 프로그램 작성자의 목적에 맞는 일을 하도록 지시한다.\n",
    "\n",
    "* 다음은 print 문장을 이용한 간단한 프로그램이다.\n",
    "\n",
    " * In [1]: 의 오른쪽의 내용이 우리가 작성하는 프로그램의 내용이며 그 다음 줄의 내용이 프로그램의 실행 결과이다.\n",
    " \n",
    "* 이 자료는 Python 2.7을 기준으로 작성되었다."
   ]
  },
  {
   "cell_type": "code",
   "execution_count": 1,
   "metadata": {},
   "outputs": [
    {
     "name": "stdout",
     "output_type": "stream",
     "text": [
      "This is my first Python program.\n"
     ]
    }
   ],
   "source": [
    "print 'This is my first Python program.'"
   ]
  },
  {
   "cell_type": "markdown",
   "metadata": {},
   "source": [
    "\n",
    "만약 Spyder를 이용 중이라면, Spyder 오른쪽 하단의 IPython Console을 이용하여 위의 문장을 실행시켜 보자.\n",
    "Spyder는 Anaconda 배포판을 통해 설치할 수 있는 Python 개발 환경이다.\n",
    "아래 그림의 In [1]: 오른쪽 부분에 print 'This is my first Python program.' 를 입력하고 엔터를 입력한다.\n",
    "\n",
    "![alt tag](https://github.com/ksublee/spup/blob/master/figure/console.png?raw=true)"
   ]
  },
  {
   "cell_type": "markdown",
   "metadata": {},
   "source": [
    "### 데이터 타입\n",
    "\n",
    "프로그래밍에 사용되는 데이터들은 데이터 타입(데이터 형)을 구분한다.\n",
    "\n",
    "Python에는 크게 세 가지 데이터 타입이 존재\n",
    "* 숫자형\n",
    "  * 5, 10.3, -2, -1.02\n",
    "  * 사칙연산 등을 수행할 수 있음\n",
    "  * 숫자형 데이터는 다시 정수형과 실수형으로 구분할 수 있다.\n",
    "* 문자열\n",
    "  * \"apple\", \"Hello, world!\", 'Yeungnam University', \"15\"\n",
    "  * 큰 따옴표나 작은 따옴표로 표현\n",
    "* 부울(Bool)\n",
    "  * True, False\n"
   ]
  },
  {
   "cell_type": "markdown",
   "metadata": {},
   "source": [
    "### 수치와 연산\n",
    "\n",
    "* 숫자형 데이터에는 사칙연산이나 나머지, 제곱 등의 연산을 적용할 수 있다.\n",
    "* IPython 콘솔은 마치 계산기처럼 이용 가능하다.\n"
   ]
  },
  {
   "cell_type": "code",
   "execution_count": 3,
   "metadata": {},
   "outputs": [
    {
     "data": {
      "text/plain": [
       "7"
      ]
     },
     "execution_count": 3,
     "metadata": {},
     "output_type": "execute_result"
    }
   ],
   "source": [
    "3+4"
   ]
  },
  {
   "cell_type": "code",
   "execution_count": 4,
   "metadata": {},
   "outputs": [
    {
     "data": {
      "text/plain": [
       "-1"
      ]
     },
     "execution_count": 4,
     "metadata": {},
     "output_type": "execute_result"
    }
   ],
   "source": [
    "3-4"
   ]
  },
  {
   "cell_type": "code",
   "execution_count": 5,
   "metadata": {},
   "outputs": [
    {
     "data": {
      "text/plain": [
       "12"
      ]
     },
     "execution_count": 5,
     "metadata": {},
     "output_type": "execute_result"
    }
   ],
   "source": [
    "3*4"
   ]
  },
  {
   "cell_type": "markdown",
   "metadata": {},
   "source": [
    "* Python 2.x에서는 정수끼리 나누기 연산의 결과는 정수로 나타난다. 소수점 아래의 숫자는 버린다."
   ]
  },
  {
   "cell_type": "code",
   "execution_count": 6,
   "metadata": {},
   "outputs": [
    {
     "data": {
      "text/plain": [
       "0"
      ]
     },
     "execution_count": 6,
     "metadata": {},
     "output_type": "execute_result"
    }
   ],
   "source": [
    "3/4"
   ]
  },
  {
   "cell_type": "markdown",
   "metadata": {},
   "source": [
    "나누기를 통하여 실수 결과를 얻고자 할 때는 연산되는 수를 실수형으로 먼저 바꾼 후 진행한다."
   ]
  },
  {
   "cell_type": "code",
   "execution_count": 8,
   "metadata": {},
   "outputs": [
    {
     "data": {
      "text/plain": [
       "0.75"
      ]
     },
     "execution_count": 8,
     "metadata": {},
     "output_type": "execute_result"
    }
   ],
   "source": [
    "3/4.0"
   ]
  },
  {
   "cell_type": "markdown",
   "metadata": {},
   "source": [
    "혹은,"
   ]
  },
  {
   "cell_type": "code",
   "execution_count": 9,
   "metadata": {},
   "outputs": [
    {
     "data": {
      "text/plain": [
       "0.75"
      ]
     },
     "execution_count": 9,
     "metadata": {},
     "output_type": "execute_result"
    }
   ],
   "source": [
    "3.0/4"
   ]
  },
  {
   "cell_type": "markdown",
   "metadata": {},
   "source": [
    "* Python 3.x에서는 정수끼리 나누기 연산의 결과는 실수로 나타난다."
   ]
  },
  {
   "cell_type": "code",
   "execution_count": 1,
   "metadata": {},
   "outputs": [
    {
     "data": {
      "text/plain": [
       "0.75"
      ]
     },
     "execution_count": 1,
     "metadata": {},
     "output_type": "execute_result"
    }
   ],
   "source": [
    "3/4"
   ]
  },
  {
   "cell_type": "markdown",
   "metadata": {},
   "source": [
    "다음은 나머지 연산을 수행한다."
   ]
  },
  {
   "cell_type": "code",
   "execution_count": 10,
   "metadata": {},
   "outputs": [
    {
     "data": {
      "text/plain": [
       "1"
      ]
     },
     "execution_count": 10,
     "metadata": {},
     "output_type": "execute_result"
    }
   ],
   "source": [
    "5%2"
   ]
  },
  {
   "cell_type": "markdown",
   "metadata": {},
   "source": [
    "제곱이나 거듭제곱은 **를 이용한다."
   ]
  },
  {
   "cell_type": "code",
   "execution_count": 11,
   "metadata": {},
   "outputs": [
    {
     "data": {
      "text/plain": [
       "25"
      ]
     },
     "execution_count": 11,
     "metadata": {},
     "output_type": "execute_result"
    }
   ],
   "source": [
    "5**2"
   ]
  },
  {
   "cell_type": "code",
   "execution_count": 12,
   "metadata": {},
   "outputs": [
    {
     "data": {
      "text/plain": [
       "8"
      ]
     },
     "execution_count": 12,
     "metadata": {},
     "output_type": "execute_result"
    }
   ],
   "source": [
    "2**3"
   ]
  },
  {
   "cell_type": "markdown",
   "metadata": {},
   "source": [
    "복잡한 연산의 순서는 기본적인 수학 규칙을 따른다."
   ]
  },
  {
   "cell_type": "code",
   "execution_count": 13,
   "metadata": {},
   "outputs": [
    {
     "data": {
      "text/plain": [
       "6"
      ]
     },
     "execution_count": 13,
     "metadata": {},
     "output_type": "execute_result"
    }
   ],
   "source": [
    "2+2*2"
   ]
  },
  {
   "cell_type": "code",
   "execution_count": 1,
   "metadata": {},
   "outputs": [
    {
     "data": {
      "text/plain": [
       "-8"
      ]
     },
     "execution_count": 1,
     "metadata": {},
     "output_type": "execute_result"
    }
   ],
   "source": [
    "(3-5)*(6+(2-4))"
   ]
  },
  {
   "cell_type": "markdown",
   "metadata": {
    "collapsed": true
   },
   "source": [
    "### 변수\n",
    "\n",
    "* 계산을 하다보면 특정 변수를 생성하여 값을 지정하고 변수를 통하여 수식을 계산하는 것이 더 편리할 경우가 많다. \n",
    "* 수학에서 x=10과 같이 변수와 그 값을 지정하듯이 Python에서도 등호(=)를 이용하여 변수의 값을 지정한다.  \n",
    "* 변수의 이름, 변수명은 기본적인 규칙을 지키는 선에서 마음대로 지어주면 된다. \n",
    "   * 이 규칙에 대해서는 잠시 후에 살펴본다.\n",
    "* 대입 연산에서는 반드시 왼쪽에 변수명이 등장한다.\n",
    "\n",
    "* 정수형 변수 지정\n",
    " * 다음을 'my_integer는 10과 같다'고 해석을 해서는 안 된다. 'my_integer에 10을 대입한다'와 같이 해석한다."
   ]
  },
  {
   "cell_type": "code",
   "execution_count": 4,
   "metadata": {
    "collapsed": true
   },
   "outputs": [],
   "source": [
    "my_integer = 10"
   ]
  },
  {
   "cell_type": "markdown",
   "metadata": {},
   "source": [
    "* 실수형 변수 지정"
   ]
  },
  {
   "cell_type": "code",
   "execution_count": 5,
   "metadata": {
    "collapsed": true
   },
   "outputs": [],
   "source": [
    "my_number = 5.2"
   ]
  },
  {
   "cell_type": "markdown",
   "metadata": {},
   "source": [
    "* 문자열 변수 지정"
   ]
  },
  {
   "cell_type": "code",
   "execution_count": 6,
   "metadata": {
    "collapsed": true
   },
   "outputs": [],
   "source": [
    "my_string = \"Statistics\""
   ]
  },
  {
   "cell_type": "markdown",
   "metadata": {},
   "source": [
    "* 부울형 변수 지정"
   ]
  },
  {
   "cell_type": "code",
   "execution_count": 7,
   "metadata": {
    "collapsed": true
   },
   "outputs": [],
   "source": [
    "my_bool = True"
   ]
  },
  {
   "cell_type": "markdown",
   "metadata": {},
   "source": [
    "만약 Spyder를 이용 중이라면 Variable explorer를 이용하여 입력한 변수의 내용을 확인할 수 있다."
   ]
  },
  {
   "cell_type": "markdown",
   "metadata": {},
   "source": [
    "![alt tag](https://github.com/ksublee/spup/blob/master/figure/variable.png?raw=true)"
   ]
  },
  {
   "cell_type": "markdown",
   "metadata": {},
   "source": [
    "* 위의 예제들처럼 대입 연산의 오른쪽에는 상수값이 오거나, 다음의 예제처럼 기존의 변수 혹은 기존의 변수를 이용한 식 등이 올 수 있다."
   ]
  },
  {
   "cell_type": "code",
   "execution_count": 8,
   "metadata": {},
   "outputs": [],
   "source": [
    "my_second_integer = my_integer + 1"
   ]
  },
  {
   "cell_type": "markdown",
   "metadata": {},
   "source": [
    "### 변수명 규칙\n",
    "\n",
    "* Python 변수명은 문자나 _로 시작\n",
    "  * _the_string\n",
    "  * my_variable\n",
    "* 첫 글자가 아닌 나머지 부분은 문자, 숫자, _가 올 수 있음\n",
    "  * password1\n",
    "  * n00b\n",
    "  * un_der_score\n",
    "* 대소문자 구별 : X와 x는 서로 다른 변수\n",
    "\n",
    "* 변수명을 짓는 방법\n",
    " * 알아보기 쉽게 짓는다.\n",
    "   * apartmentname -> apartment_name 혹은 apartmentName\n",
    " * 무슨 변수를 나타내는지 알아보도록 짓는다.\n",
    "   * afmowpv : 아무 의미 없어 보이며 이렇게 짓지 않음\n",
    "   * average_num_students : 변수명이 다소 긴 것처럼 느껴지지만, 학생 수의 평균을 의미하는 변수 임을 추측할 수 있음\n"
   ]
  },
  {
   "cell_type": "markdown",
   "metadata": {},
   "source": [
    "### 변수 지정에 있어 Python의 특징\n",
    "\n",
    "* 많은 다른 프로그래밍 언어의 경우 변수형을 따로 선언해 주어야 함. 예를 들어, C언어 등의 경우\n",
    "  * int n = 10\n",
    "    * 정수(integer)형 변수\n",
    "  * double x = 2.12\n",
    "    * double precision을 가지는 실수형 변수\n",
    "  * char c = 'a'\n",
    "    * 문자(character)형 변수\n",
    "\n",
    "* Python은 int, double, char 등과 같은 변수형에 대한 keyword를 따로 선언해 주지 않는다.\n"
   ]
  },
  {
   "cell_type": "markdown",
   "metadata": {},
   "source": [
    "#### Dynamic types\n",
    "\n",
    "* Python에서는 데이터 type을 따로 명시하는 것이 아니기 때문에, 프로그램 중간에 데이터 type이 바뀔 수 있다.\n",
    "  * x = 10  \n",
    "    …  \n",
    "    x = 'John'  \n",
    "    …  \n",
    "    x = True\n",
    "    \n",
    "    \n",
    "* 그러나, 하나의 변수가 한 프로그램 내에서 데이터 타입이 변하는 것은 바람직하지 않으며, 동일한 데이터 타입을 유지하도록 한다.\n",
    "\n",
    "* 반면 변수의 값은 계속 변할 수 있다.\n"
   ]
  },
  {
   "cell_type": "markdown",
   "metadata": {},
   "source": [
    "#### 변수값 재지정\n",
    "\n",
    "한 번 지정한 변수값을 얼마든지 새 변수값으로 바꿀 수 있음 \n"
   ]
  },
  {
   "cell_type": "code",
   "execution_count": 5,
   "metadata": {
    "collapsed": true
   },
   "outputs": [],
   "source": [
    "a = 1\n",
    "a = 2\n",
    "a = 2.1\n",
    "b = \"Hi\"\n",
    "b = \"Hello\"\n",
    "c = True\n",
    "c = False "
   ]
  },
  {
   "cell_type": "markdown",
   "metadata": {},
   "source": [
    "다음의 예제에서는 radius의 값이 계산 결과에 따라 바뀌는 모양을 나타내고 있다."
   ]
  },
  {
   "cell_type": "code",
   "execution_count": 8,
   "metadata": {
    "collapsed": true
   },
   "outputs": [],
   "source": [
    "pi = 3\n",
    "radius = 11\n",
    "area = pi * (radius**2)\n",
    "radius = 14"
   ]
  },
  {
   "cell_type": "markdown",
   "metadata": {},
   "source": [
    "![alt tag](https://github.com/ksublee/spup/blob/master/figure/pi.png?raw=true)\n",
    "\n",
    "그림 출처 : Introduction to Computation and Programming Using Python, John V. Guttag"
   ]
  },
  {
   "cell_type": "markdown",
   "metadata": {
    "collapsed": true
   },
   "source": [
    "#### multiple assignment\n",
    "\n",
    "Python에서는 다음과 같이 여러 개의 변수에 여러 값들을 한 번에 지정할 수 있다."
   ]
  },
  {
   "cell_type": "code",
   "execution_count": 1,
   "metadata": {},
   "outputs": [
    {
     "name": "stdout",
     "output_type": "stream",
     "text": [
      "x =  3\n",
      "y =  2\n"
     ]
    }
   ],
   "source": [
    "x, y = 2, 3\n",
    "x, y = y, x\n",
    "print 'x = ', x\n",
    "print 'y = ', y"
   ]
  },
  {
   "cell_type": "markdown",
   "metadata": {},
   "source": [
    "### 문자열 출력해 보기\n",
    "\n",
    "프로그래밍의 가장 기본 예제를 연습해 보자. Python은 인터프리터 언어로서 매우 간단한 Hello world 프로그램을 가진다."
   ]
  },
  {
   "cell_type": "code",
   "execution_count": 2,
   "metadata": {},
   "outputs": [
    {
     "name": "stdout",
     "output_type": "stream",
     "text": [
      "Hello, world!\n"
     ]
    }
   ],
   "source": [
    "print \"Hello, world!\""
   ]
  },
  {
   "cell_type": "code",
   "execution_count": 3,
   "metadata": {},
   "outputs": [
    {
     "name": "stdout",
     "output_type": "stream",
     "text": [
      "Hello, world!\n"
     ]
    }
   ],
   "source": [
    "print 'Hello, world!'"
   ]
  },
  {
   "cell_type": "markdown",
   "metadata": {},
   "source": [
    "따옴표로 둘러싸여 있는 부분은 문자열을 의미하며 print 명령을 통해 해당 문자열 - 여기서는 Hello, world! - 을 화면에 출력하라는 뜻이다.\n",
    "* 큰 따옴표, 작은 따옴표 모두 가능\n",
    "\n",
    "print 명령에 괄호를 사용할 수도 있음\n",
    "* Python 3.0 이상에서는 print가 함수로 변경되었기 때문에, 반드시 괄호를 이용해야 한다.\n",
    "* https://docs.python.org/3/whatsnew/3.0.html#print-is-a-function"
   ]
  },
  {
   "cell_type": "code",
   "execution_count": 1,
   "metadata": {},
   "outputs": [
    {
     "name": "stdout",
     "output_type": "stream",
     "text": [
      "Hello, world!\n"
     ]
    }
   ],
   "source": [
    "print(\"Hello, world!\")"
   ]
  },
  {
   "cell_type": "markdown",
   "metadata": {},
   "source": [
    "### 문자열 입력 받기\n",
    "\n",
    "raw_input 함수를 사용하여 콘솔로부터 문자열을 입력 받을 수 있음"
   ]
  },
  {
   "cell_type": "code",
   "execution_count": 6,
   "metadata": {},
   "outputs": [
    {
     "name": "stdout",
     "output_type": "stream",
     "text": [
      "Input any string : simple test\n"
     ]
    }
   ],
   "source": [
    "input_string = raw_input(\"Input any string : \")"
   ]
  },
  {
   "cell_type": "markdown",
   "metadata": {},
   "source": [
    "* \"Input any string : \" 부분은 콘솔 창에 나타나는 부분으로 원하는 대로 바꾸어 쓸 수 있음\n",
    "\n",
    "\n",
    "* print 명령을 이용하여 저장된 내용을 다시 출력해 보자."
   ]
  },
  {
   "cell_type": "code",
   "execution_count": 7,
   "metadata": {},
   "outputs": [
    {
     "name": "stdout",
     "output_type": "stream",
     "text": [
      "simple test\n"
     ]
    }
   ],
   "source": [
    "print(input_string)"
   ]
  },
  {
   "cell_type": "markdown",
   "metadata": {},
   "source": [
    "### 부울(Boolean)형\n",
    "\n",
    "* True 혹은 False로 구성된 자료형이다.\n",
    "* Boolean type의 변수는 프로그래밍에서 중요한 역할을 담당\n",
    "  * 조건에 따라 처리를 달리하는 프로그램을 작성할 때 유용\n"
   ]
  },
  {
   "cell_type": "code",
   "execution_count": 8,
   "metadata": {},
   "outputs": [
    {
     "data": {
      "text/plain": [
       "True"
      ]
     },
     "execution_count": 8,
     "metadata": {},
     "output_type": "execute_result"
    }
   ],
   "source": [
    "2 > 0.9"
   ]
  },
  {
   "cell_type": "code",
   "execution_count": 9,
   "metadata": {},
   "outputs": [
    {
     "data": {
      "text/plain": [
       "False"
      ]
     },
     "execution_count": 9,
     "metadata": {},
     "output_type": "execute_result"
    }
   ],
   "source": [
    "3 < -3"
   ]
  },
  {
   "cell_type": "code",
   "execution_count": 12,
   "metadata": {
    "collapsed": true
   },
   "outputs": [],
   "source": [
    "a = True"
   ]
  },
  {
   "cell_type": "code",
   "execution_count": 11,
   "metadata": {
    "collapsed": true
   },
   "outputs": [],
   "source": [
    "b = False"
   ]
  },
  {
   "cell_type": "markdown",
   "metadata": {},
   "source": [
    "* True의 값을 가지는 변수 a\n",
    "* False의 값을 가지는 변수 b"
   ]
  },
  {
   "cell_type": "markdown",
   "metadata": {},
   "source": [
    "### 비교연산과 대입연산\n",
    "\n",
    "등호를 하나만 사용하는 경우 이를 대입연산자라 함"
   ]
  },
  {
   "cell_type": "code",
   "execution_count": 13,
   "metadata": {
    "collapsed": true
   },
   "outputs": [],
   "source": [
    "x = 5"
   ]
  },
  {
   "cell_type": "markdown",
   "metadata": {},
   "source": [
    "* x라는 변수에 5라는 정수를 대입\n",
    "* 따라서 4=4와 같은 문장은 잘못된 문장\n",
    "  * 숫자 4에 4를 대입할 수 없음"
   ]
  },
  {
   "cell_type": "markdown",
   "metadata": {},
   "source": [
    "등호를 두 개를 연속해서 사용하는 경우 : 비교연산"
   ]
  },
  {
   "cell_type": "code",
   "execution_count": 14,
   "metadata": {},
   "outputs": [
    {
     "data": {
      "text/plain": [
       "True"
      ]
     },
     "execution_count": 14,
     "metadata": {},
     "output_type": "execute_result"
    }
   ],
   "source": [
    "4 == 4"
   ]
  },
  {
   "cell_type": "code",
   "execution_count": 15,
   "metadata": {},
   "outputs": [
    {
     "data": {
      "text/plain": [
       "False"
      ]
     },
     "execution_count": 15,
     "metadata": {},
     "output_type": "execute_result"
    }
   ],
   "source": [
    "\"Korea\" == \"Japan\""
   ]
  },
  {
   "cell_type": "markdown",
   "metadata": {},
   "source": [
    "### 대입연산 예제\n",
    "\n",
    "다음의 결과들을 순차적으로 생각해 보자."
   ]
  },
  {
   "cell_type": "code",
   "execution_count": 18,
   "metadata": {
    "collapsed": true
   },
   "outputs": [],
   "source": [
    "x = 2\n",
    "x = x + 4\n",
    "x = x * x\n",
    "x = x % 5"
   ]
  },
  {
   "cell_type": "code",
   "execution_count": 19,
   "metadata": {},
   "outputs": [
    {
     "name": "stdout",
     "output_type": "stream",
     "text": [
      "1\n"
     ]
    }
   ],
   "source": [
    "print(x)"
   ]
  },
  {
   "cell_type": "markdown",
   "metadata": {},
   "source": [
    "### 비교연산\n",
    "\n",
    "비교연산의 종류\n",
    "\n",
    "\n",
    "비교연산자  |대응되는 수학기호\n",
    "----------|--------------\n",
    "> | $>$\n",
    ">= | $\\geq$\n",
    "< | $<$\n",
    "<= | $\\leq$\n",
    "!= | $\\neq$\n",
    "== | $=$\n",
    "\n",
    "\n",
    "비교연산자를 사용한 식이 옳을 경우 True를, 그렇지 않을 경우 False를 반환"
   ]
  },
  {
   "cell_type": "code",
   "execution_count": 21,
   "metadata": {
    "collapsed": true
   },
   "outputs": [],
   "source": [
    "egg = 138\n",
    "spam = 370"
   ]
  },
  {
   "cell_type": "code",
   "execution_count": 22,
   "metadata": {},
   "outputs": [
    {
     "data": {
      "text/plain": [
       "False"
      ]
     },
     "execution_count": 22,
     "metadata": {},
     "output_type": "execute_result"
    }
   ],
   "source": [
    "egg == spam"
   ]
  },
  {
   "cell_type": "code",
   "execution_count": 23,
   "metadata": {},
   "outputs": [
    {
     "data": {
      "text/plain": [
       "True"
      ]
     },
     "execution_count": 23,
     "metadata": {},
     "output_type": "execute_result"
    }
   ],
   "source": [
    "egg != spam"
   ]
  },
  {
   "cell_type": "markdown",
   "metadata": {},
   "source": [
    "### 복합대입연산자\n",
    "\n",
    "연산과 대입을 동시에 할 수 있음"
   ]
  },
  {
   "cell_type": "code",
   "execution_count": 27,
   "metadata": {},
   "outputs": [
    {
     "data": {
      "text/plain": [
       "3"
      ]
     },
     "execution_count": 27,
     "metadata": {},
     "output_type": "execute_result"
    }
   ],
   "source": [
    "i = 1\n",
    "i += 2\n",
    "i"
   ]
  },
  {
   "cell_type": "code",
   "execution_count": 28,
   "metadata": {},
   "outputs": [
    {
     "data": {
      "text/plain": [
       "9"
      ]
     },
     "execution_count": 28,
     "metadata": {},
     "output_type": "execute_result"
    }
   ],
   "source": [
    "j = 10\n",
    "j -= 1\n",
    "j"
   ]
  },
  {
   "cell_type": "markdown",
   "metadata": {},
   "source": [
    "### 주석(comment)\n",
    "\n",
    "* 코드에 설명을 넣고 싶을 때\n",
    "* 한 줄로 주석 넣기, #으로 시작\n",
    "  * \\# This code solves the P vs NP problem.\n",
    "* 여러 줄에 걸쳐 주석을 넣을 때, \"\"\"를 이용\n",
    "  * \"\"\"  \n",
    "    Turing used this code to crack the Enigma.  \n",
    "    With this code, anybody hack a server like a pro.  \n",
    "    \"\"\"\n"
   ]
  },
  {
   "cell_type": "markdown",
   "metadata": {},
   "source": [
    "### 문자열(string)\n",
    "\n",
    "파이썬에서는 문자열(string)을 쉽게 다룰 수 있다."
   ]
  },
  {
   "cell_type": "code",
   "execution_count": 29,
   "metadata": {
    "collapsed": true
   },
   "outputs": [],
   "source": [
    "name = \"Kyungsub Lee\""
   ]
  },
  {
   "cell_type": "code",
   "execution_count": 30,
   "metadata": {},
   "outputs": [
    {
     "name": "stdout",
     "output_type": "stream",
     "text": [
      "Kyungsub Lee\n"
     ]
    }
   ],
   "source": [
    "print(name)"
   ]
  },
  {
   "cell_type": "markdown",
   "metadata": {},
   "source": [
    "다음은 숫자 45가 아니라 문자열로서 \"45\"로 사용되었음을 유의"
   ]
  },
  {
   "cell_type": "code",
   "execution_count": 31,
   "metadata": {
    "collapsed": true
   },
   "outputs": [],
   "source": [
    "age = \"45\""
   ]
  },
  {
   "cell_type": "code",
   "execution_count": 32,
   "metadata": {},
   "outputs": [
    {
     "name": "stdout",
     "output_type": "stream",
     "text": [
      "45\n"
     ]
    }
   ],
   "source": [
    "print(age)"
   ]
  },
  {
   "cell_type": "markdown",
   "metadata": {},
   "source": [
    "### 문자열 연결 (concatenation)\n",
    "\n",
    "Python에서 문자열은 + 기호를 이용하여 쉽게 연결할 수 있다."
   ]
  },
  {
   "cell_type": "code",
   "execution_count": 33,
   "metadata": {},
   "outputs": [
    {
     "name": "stdout",
     "output_type": "stream",
     "text": [
      "Kyungsub Lee\n"
     ]
    }
   ],
   "source": [
    "first_name = \"Kyungsub\"\n",
    "family_name = \"Lee\"\n",
    "full_name = first_name + \" \" + family_name\n",
    "print(full_name)"
   ]
  },
  {
   "cell_type": "code",
   "execution_count": 34,
   "metadata": {},
   "outputs": [
    {
     "name": "stdout",
     "output_type": "stream",
     "text": [
      "My age is 20.\n"
     ]
    }
   ],
   "source": [
    "print(\"My age is \" + str(20) + \".\")"
   ]
  },
  {
   "cell_type": "markdown",
   "metadata": {},
   "source": [
    "### 문자열 관련 예제\n",
    "\n",
    "다음의 결과를 테스트해 보자."
   ]
  },
  {
   "cell_type": "code",
   "execution_count": 35,
   "metadata": {},
   "outputs": [
    {
     "data": {
      "text/plain": [
       "'abcde'"
      ]
     },
     "execution_count": 35,
     "metadata": {},
     "output_type": "execute_result"
    }
   ],
   "source": [
    "'a' + 'bcde'"
   ]
  },
  {
   "cell_type": "code",
   "execution_count": 36,
   "metadata": {},
   "outputs": [
    {
     "data": {
      "text/plain": [
       "'ababababab'"
      ]
     },
     "execution_count": 36,
     "metadata": {},
     "output_type": "execute_result"
    }
   ],
   "source": [
    "5 * 'ab'"
   ]
  },
  {
   "cell_type": "code",
   "execution_count": 37,
   "metadata": {},
   "outputs": [
    {
     "ename": "TypeError",
     "evalue": "unsupported operand type(s) for +: 'int' and 'str'",
     "output_type": "error",
     "traceback": [
      "\u001b[0;31m---------------------------------------------------------------------------\u001b[0m",
      "\u001b[0;31mTypeError\u001b[0m                                 Traceback (most recent call last)",
      "\u001b[0;32m<ipython-input-37-c6dfd1816457>\u001b[0m in \u001b[0;36m<module>\u001b[0;34m()\u001b[0m\n\u001b[0;32m----> 1\u001b[0;31m \u001b[1;36m3\u001b[0m\u001b[1;33m+\u001b[0m\u001b[1;34m'three'\u001b[0m\u001b[1;33m\u001b[0m\u001b[0m\n\u001b[0m",
      "\u001b[0;31mTypeError\u001b[0m: unsupported operand type(s) for +: 'int' and 'str'"
     ]
    }
   ],
   "source": [
    "3 + 'three'"
   ]
  },
  {
   "cell_type": "code",
   "execution_count": 38,
   "metadata": {},
   "outputs": [
    {
     "data": {
      "text/plain": [
       "False"
      ]
     },
     "execution_count": 38,
     "metadata": {},
     "output_type": "execute_result"
    }
   ],
   "source": [
    "'a' < 3"
   ]
  },
  {
   "cell_type": "code",
   "execution_count": 39,
   "metadata": {},
   "outputs": [
    {
     "data": {
      "text/plain": [
       "True"
      ]
     },
     "execution_count": 39,
     "metadata": {},
     "output_type": "execute_result"
    }
   ],
   "source": [
    "'3' > 3"
   ]
  },
  {
   "cell_type": "markdown",
   "metadata": {},
   "source": [
    "### overloading\n",
    "\n",
    "* 더하기(+) 기호는 연산되는 변수의 타입에 따라 다르게 작동한다.\n",
    "  * 3 + 4 : 덧셈\n",
    "  * \"ab\" + \"cd\" : 문자열 연결"
   ]
  },
  {
   "cell_type": "code",
   "execution_count": 40,
   "metadata": {},
   "outputs": [
    {
     "data": {
      "text/plain": [
       "7"
      ]
     },
     "execution_count": 40,
     "metadata": {},
     "output_type": "execute_result"
    }
   ],
   "source": [
    "3 + 4"
   ]
  },
  {
   "cell_type": "code",
   "execution_count": 41,
   "metadata": {},
   "outputs": [
    {
     "data": {
      "text/plain": [
       "'abcd'"
      ]
     },
     "execution_count": 41,
     "metadata": {},
     "output_type": "execute_result"
    }
   ],
   "source": [
    "\"ab\" + \"cd\""
   ]
  },
  {
   "cell_type": "markdown",
   "metadata": {},
   "source": [
    "이를 연산자 overloading라고 한다."
   ]
  },
  {
   "cell_type": "markdown",
   "metadata": {},
   "source": [
    "### type checking"
   ]
  },
  {
   "cell_type": "code",
   "execution_count": 42,
   "metadata": {},
   "outputs": [
    {
     "ename": "TypeError",
     "evalue": "can't multiply sequence by non-int of type 'str'",
     "output_type": "error",
     "traceback": [
      "\u001b[0;31m---------------------------------------------------------------------------\u001b[0m",
      "\u001b[0;31mTypeError\u001b[0m                                 Traceback (most recent call last)",
      "\u001b[0;32m<ipython-input-42-3c54c85d4ff5>\u001b[0m in \u001b[0;36m<module>\u001b[0;34m()\u001b[0m\n\u001b[0;32m----> 1\u001b[0;31m \u001b[1;34m'a'\u001b[0m \u001b[1;33m*\u001b[0m \u001b[1;34m'a'\u001b[0m\u001b[1;33m\u001b[0m\u001b[0m\n\u001b[0m",
      "\u001b[0;31mTypeError\u001b[0m: can't multiply sequence by non-int of type 'str'"
     ]
    }
   ],
   "source": [
    "'a' * 'a'"
   ]
  },
  {
   "cell_type": "markdown",
   "metadata": {},
   "source": [
    "실수로  잘못 입력된 형태의 type을 찾아준다."
   ]
  },
  {
   "cell_type": "markdown",
   "metadata": {},
   "source": [
    "### 확장 문자(escaping character)\n",
    "\n",
    "문자열 중간에 따옴표 ' 기호를 넣고 싶을 때\n",
    "\n",
    "* 잘못된 예"
   ]
  },
  {
   "cell_type": "code",
   "execution_count": 43,
   "metadata": {},
   "outputs": [
    {
     "ename": "SyntaxError",
     "evalue": "invalid syntax (<ipython-input-43-ddc38eb7446d>, line 1)",
     "output_type": "error",
     "traceback": [
      "\u001b[0;36m  File \u001b[0;32m\"<ipython-input-43-ddc38eb7446d>\"\u001b[0;36m, line \u001b[0;32m1\u001b[0m\n\u001b[0;31m    'This isn't flying, this is falling with style!'\u001b[0m\n\u001b[0m              ^\u001b[0m\n\u001b[0;31mSyntaxError\u001b[0m\u001b[0;31m:\u001b[0m invalid syntax\n"
     ]
    }
   ],
   "source": [
    "'This isn't flying, this is falling with style!'"
   ]
  },
  {
   "cell_type": "markdown",
   "metadata": {},
   "source": [
    "* 올바른 예 : backslash \\를 삽입하여 문자열 내의 따옴표 사용임을 알림"
   ]
  },
  {
   "cell_type": "code",
   "execution_count": 44,
   "metadata": {},
   "outputs": [
    {
     "data": {
      "text/plain": [
       "\"This isn't flying, this is falling with style!\""
      ]
     },
     "execution_count": 44,
     "metadata": {},
     "output_type": "execute_result"
    }
   ],
   "source": [
    "'This isn\\'t flying, this is falling with style!'"
   ]
  },
  {
   "cell_type": "markdown",
   "metadata": {},
   "source": [
    "\\\" : 큰 따옴표  \n",
    "\\\\\\ : backslash(\\)"
   ]
  },
  {
   "cell_type": "code",
   "execution_count": 5,
   "metadata": {},
   "outputs": [
    {
     "name": "stdout",
     "output_type": "stream",
     "text": [
      "\"\n"
     ]
    }
   ],
   "source": [
    "print('\\\"')"
   ]
  },
  {
   "cell_type": "code",
   "execution_count": 6,
   "metadata": {},
   "outputs": [
    {
     "name": "stdout",
     "output_type": "stream",
     "text": [
      "\\\n"
     ]
    }
   ],
   "source": [
    "print('\\\\')"
   ]
  },
  {
   "cell_type": "markdown",
   "metadata": {},
   "source": [
    "### 인덱스를 통한 특정 문자 접근\n",
    "\n",
    "* 인덱스를 통하여 문자열의 특정 문자에 쉽게 접근\n",
    "* 첫 번째 문자의 인덱스는 0부터 시작함 (1이 아님)\n"
   ]
  },
  {
   "cell_type": "code",
   "execution_count": 51,
   "metadata": {},
   "outputs": [
    {
     "name": "stdout",
     "output_type": "stream",
     "text": [
      "u\n"
     ]
    }
   ],
   "source": [
    "first_letter = \"uncopywritable\"[0]\n",
    "print(first_letter)"
   ]
  },
  {
   "cell_type": "code",
   "execution_count": 53,
   "metadata": {},
   "outputs": [
    {
     "name": "stdout",
     "output_type": "stream",
     "text": [
      "n\n"
     ]
    }
   ],
   "source": [
    "my_word = \"uncopywritable\"\n",
    "second_letter = my_word[1]\n",
    "print(second_letter)"
   ]
  },
  {
   "cell_type": "markdown",
   "metadata": {},
   "source": [
    "### 문자열 관련 함수와 method\n",
    "\n",
    "* len()  \n",
    "  * python에 미리 만들어진 built-in 함수로 문자열이나 리스트의 길이를 구할 때 사용\n"
   ]
  },
  {
   "cell_type": "code",
   "execution_count": 55,
   "metadata": {},
   "outputs": [
    {
     "name": "stdout",
     "output_type": "stream",
     "text": [
      "6\n"
     ]
    }
   ],
   "source": [
    "my_name = \"KS Lee\"\n",
    "print( len(my_name) )"
   ]
  },
  {
   "cell_type": "markdown",
   "metadata": {},
   "source": [
    "* lower(), upper()\n",
    "  * 소문자 혹은 대문자로 바꾸어주는 method\n",
    "  * 문자열 뒤에 마침표(.)와 함께 사용\n",
    "    * lower(), upper() 등은 생성한 문자열에 종속된 method로써 python에서 제공함"
   ]
  },
  {
   "cell_type": "code",
   "execution_count": 57,
   "metadata": {},
   "outputs": [
    {
     "name": "stdout",
     "output_type": "stream",
     "text": [
      "egg\n"
     ]
    }
   ],
   "source": [
    "print(\"EGG\".lower())"
   ]
  },
  {
   "cell_type": "code",
   "execution_count": 58,
   "metadata": {},
   "outputs": [
    {
     "name": "stdout",
     "output_type": "stream",
     "text": [
      "SPAM\n"
     ]
    }
   ],
   "source": [
    "my_string = \"spam\"\n",
    "print(my_string.upper())"
   ]
  },
  {
   "cell_type": "markdown",
   "metadata": {},
   "source": [
    "* str()\n",
    "  * 다른 데이터형을 문자열로 바꾸기"
   ]
  },
  {
   "cell_type": "code",
   "execution_count": 59,
   "metadata": {
    "collapsed": true
   },
   "outputs": [],
   "source": [
    "this_year = 2016"
   ]
  },
  {
   "cell_type": "markdown",
   "metadata": {},
   "source": [
    "  * this_year는 2016이라는 값을 지닌 정수형 데이터\n",
    "  * 이를 정수가 아닌 문자열로 바꾸고 싶을 때"
   ]
  },
  {
   "cell_type": "code",
   "execution_count": 60,
   "metadata": {
    "collapsed": true
   },
   "outputs": [],
   "source": [
    "this_year_string = str(this_year)"
   ]
  },
  {
   "cell_type": "markdown",
   "metadata": {},
   "source": [
    "  * this_year = 2016이고 this_year_string = \"2016\"으로 데이터형이 다름에 주의\n",
    "  * 다음의 값이 무엇이 나올지 살펴 보자."
   ]
  },
  {
   "cell_type": "code",
   "execution_count": 62,
   "metadata": {},
   "outputs": [
    {
     "name": "stdout",
     "output_type": "stream",
     "text": [
      "4032\n"
     ]
    }
   ],
   "source": [
    "print(this_year + this_year)"
   ]
  },
  {
   "cell_type": "code",
   "execution_count": 63,
   "metadata": {},
   "outputs": [
    {
     "name": "stdout",
     "output_type": "stream",
     "text": [
      "20162016\n"
     ]
    }
   ],
   "source": [
    "print(this_year_string + this_year_string)"
   ]
  },
  {
   "cell_type": "markdown",
   "metadata": {},
   "source": [
    "* lower()와 upper() 등의 method는 dot(.)을 이용하며 string에 종속된 method\n",
    "\n",
    "* str(), len() 등은 dot(.)을 이용하지 않으며 괄호 안의 인자에 여러 형태의 데이터형이 올 수 있음"
   ]
  },
  {
   "cell_type": "markdown",
   "metadata": {},
   "source": [
    "### %s를 이용한 문자열 출력"
   ]
  },
  {
   "cell_type": "code",
   "execution_count": 64,
   "metadata": {},
   "outputs": [
    {
     "name": "stdout",
     "output_type": "stream",
     "text": [
      "My name is Tom and I am from New York.\n"
     ]
    }
   ],
   "source": [
    "name = \"Tom\"\n",
    "home = \"New York\"\n",
    "print(\"My name is %s and I am from %s.\" %(name, home))"
   ]
  },
  {
   "cell_type": "markdown",
   "metadata": {},
   "source": [
    "### 문자열 입력\n",
    "\n",
    "Python 2.x 에서는 raw_input 함수를 이용하여 문자열을 입력받는다.  \n",
    "raw_input()의 괄호 안에는 문자열 입력 전 화면에 보여주고 싶은 문장을 입력한다."
   ]
  },
  {
   "cell_type": "code",
   "execution_count": 65,
   "metadata": {},
   "outputs": [
    {
     "name": "stdout",
     "output_type": "stream",
     "text": [
      "Enter your name: Kyungsub Lee\n"
     ]
    }
   ],
   "source": [
    "name = raw_input('Enter your name: ')"
   ]
  },
  {
   "cell_type": "code",
   "execution_count": 66,
   "metadata": {},
   "outputs": [
    {
     "name": "stdout",
     "output_type": "stream",
     "text": [
      "Are you really Kyungsub Lee?\n"
     ]
    }
   ],
   "source": [
    "print('Are you really ' + name + '?')"
   ]
  },
  {
   "cell_type": "markdown",
   "metadata": {},
   "source": [
    "### 입력 받은 문자열 type 변경\n",
    "\n",
    "만약 입력 받은 문자열을 숫자로 활용하고자 하면 int()나 float() 함수를 이용하여 type을 변경"
   ]
  },
  {
   "cell_type": "code",
   "execution_count": 1,
   "metadata": {},
   "outputs": [
    {
     "name": "stdout",
     "output_type": "stream",
     "text": [
      "Input any number: 3.3\n"
     ]
    }
   ],
   "source": [
    "num = raw_input('Input any number: ')"
   ]
  },
  {
   "cell_type": "code",
   "execution_count": 2,
   "metadata": {},
   "outputs": [
    {
     "name": "stdout",
     "output_type": "stream",
     "text": [
      "The square of num 3.3 is 10.89\n"
     ]
    }
   ],
   "source": [
    "sqr = float(num)*float(num)\n",
    "print('The square of num ' + num + ' is ' + str(sqr)"
   ]
  }
 ],
 "metadata": {
  "kernelspec": {
   "display_name": "Python 3",
   "language": "python",
   "name": "python3"
  },
  "language_info": {
   "codemirror_mode": {
    "name": "ipython",
    "version": 3
   },
   "file_extension": ".py",
   "mimetype": "text/x-python",
   "name": "python",
   "nbconvert_exporter": "python",
   "pygments_lexer": "ipython3",
   "version": "3.6.4"
  }
 },
 "nbformat": 4,
 "nbformat_minor": 1
}

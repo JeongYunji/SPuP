{
 "cells": [
  {
   "cell_type": "markdown",
   "metadata": {},
   "source": [
    "### 독립과 종속\n",
    "\n",
    "* 간략히 말해서, 사건 $𝐸$와 $𝐹$가 독립이라는 것은, 우리가 $𝐸$의 사건이 발생했는지에 대한 정보를 알고 있을 때, 이것이 $𝐹$에 대한 정보를 주지 못하면 사건 $𝐸$와 $𝐹$는 독립이라 한다.\n",
    "\n",
    "* $𝑃(𝐸,𝐹) = 𝑃(𝐸)𝑃(𝐹)$"
   ]
  },
  {
   "cell_type": "markdown",
   "metadata": {},
   "source": [
    "### 조건부 확률\n",
    "\n",
    "* 만약 사건 $E$와 $F$가 독립이 아닐 수 있으면, 다음과 같이 조건부 확률을 정의\n",
    "$$𝑃(𝐸|𝐹)=\\frac{𝑃(𝐸,𝐹)}{𝑃(𝐹)}$$ \n",
    "* 사건 $𝐹$가 발생하였을 때, $𝐸$가 발생할 확률\n",
    "\n",
    "### Example\n",
    "\n",
    "* 두 자녀가 있는 가족을 생각해 보자.\n",
    "* 각 자녀는 같은 확률로 남자 혹은 여자일 수 있다.\n",
    "* 둘째의 성별은 첫째의 성별과 독립적이다.\n",
    "* 첫째가 딸(G)일 때, 두 자녀가 모두 딸(B)일 확률?\n",
    "$$𝑃(𝐵|𝐺)=\\frac{𝑃(𝐵,𝐺)}{𝑃(𝐺)} = \\frac{𝑃(𝐵)}{𝑃(𝐺)} = \\frac{1}{2}$$\n",
    "* 적어도 하나의 아이가 딸일 때(L), 두 아이가 모두 딸(B)일 확률?\n",
    "$$𝑃(𝐵|𝐿)=\\frac{𝑃(𝐵,𝐿)}{𝑃(𝐿)} = \\frac{𝑃(𝐵)}{𝑃(𝐿)} = \\frac{1}{3} $$\n",
    "  \n",
    "### 랜덤 가족을 만들어 결과 확인"
   ]
  },
  {
   "cell_type": "code",
   "execution_count": 22,
   "metadata": {
    "collapsed": false
   },
   "outputs": [
    {
     "name": "stdout",
     "output_type": "stream",
     "text": [
      "P(both | older): 0.514228456914\n",
      "P(both | either):  0.341541328364\n"
     ]
    }
   ],
   "source": [
    "from __future__ import division\n",
    "import math, random\n",
    "\n",
    "def random_kid(): \n",
    "    return random.choice([\"boy\", \"girl\"])\n",
    "\n",
    "both_girls, older_girl, either_girl = 0, 0, 0\n",
    "random.seed(0)\n",
    "\n",
    "for _ in range(10000):\n",
    "        younger = random_kid()\n",
    "        older = random_kid()\n",
    "        if older == \"girl\":  \n",
    "            older_girl += 1\n",
    "        if older == \"girl\" and younger == \"girl\":  \n",
    "            both_girls += 1\n",
    "        if older == \"girl\" or younger == \"girl\":    \n",
    "            either_girl += 1\n",
    "\n",
    "print \"P(both | older):\", both_girls / older_girl      \n",
    "print \"P(both | either): \", both_girls / either_girl"
   ]
  },
  {
   "cell_type": "markdown",
   "metadata": {},
   "source": [
    "### Bayes's theorem\n",
    "\n",
    "* $𝑃(𝐹|𝐸)$를 알 때 $𝑃(𝐸|𝐹)$를 계산\u000b",
    "\n",
    "$$ 𝑃(𝐸|𝐹)= \\frac{𝑃(𝐸,𝐹)}{𝑃(𝐹)} = \\frac{𝑃(𝐹|𝐸)𝑃(𝐸)}{𝑃(𝐹)} $$\n",
    "\n",
    "* 사건 $𝐹$는 $𝐹,𝐸$와 $𝐹,𝐸^𝑐$로 나눌 수 있음\n",
    "$$ 𝑃(𝐸|𝐹)= \\frac{𝑃(𝐹|𝐸)𝑃(𝐸)}{ 𝑃(𝐹,𝐸)+𝑃(𝐹,𝐸^𝑐)} = \\frac{𝑃(𝐹|𝐸)𝑃(𝐸)}{𝑃(𝐹|𝐸)𝑃(𝐸)+𝑃(𝐹|𝐸^𝑐)𝑃(𝐸^𝑐)} $$\n",
    "           \n",
    "           \n",
    "### 예제: Bayes's theorem\n",
    "\n",
    "* 10,000명당 1명꼴로 발생하는 질병\n",
    "* 99% 정확성을 지니는 질병 테스트\n",
    "* 질병에 대한 랜덤 테스트를 진행했을 때, 양성 반응의 의미\n",
    "  * 𝐷 : 질병 감염, 𝑇 : 양성 반응.\n",
    "$$𝑃(𝐷|𝑇)= \\frac{𝑃(𝑇|𝐷)𝑃(𝐷)}{𝑃(𝑇|𝐷)𝑃(𝐷)+𝑃(𝑇|𝐷^𝑐 )𝑃(𝐷^𝑐 )}$$\n",
    "  * $𝑃(𝑇|𝐷)=0.99,  𝑃(𝑇|𝐷^𝑐 )=0.01$\n",
    "  * $𝑃(𝐷)=0.0001,  𝑃(𝐷^𝑐 )=0.9999$\n",
    "* ⇒ $𝑃(𝐷|𝑇)=0.98\\%$\n",
    "* 0.98%의 양성 반응자만이 실제로 질병에 걸림을 알 수 있음\n",
    "* 실제 테스트에서는 증상이 있는 환자가 검사를 받기 때문에, \n",
    "* 양성반응+증상이 있음을 조건으로 병에 걸렸을 확률을 계산하면, 확률은 보다 상승\n",
    "\n",
    "### 확률 변수\n",
    "\n",
    "* 확률 변수는 특정 확률 분포를 따르며 랜덤 값을 가지는 변수를 말함\n",
    "  * 동전의 앞이 나오면 1, 뒷면이 나오면 0\n",
    "  * 동전을 9번 던졌을 때 앞면의 수 \n",
    "   * range(10)에서 고를 수 있는 임의의 숫자\n",
    "* 기댓값 : 발생 가능한 확률 변수 값에 확률을 곱한 뒤 합하여 얻는 값\n",
    " * 동전 던져서 나온 앞면의 수 : 0.5\n",
    " * 주사위의 값 : 3.5\n",
    "\n",
    "### 연속 분포 – 균등 분포\n",
    "\n",
    "* 예: 0과 1사이의 균등 분포 (uniform distribution)\n",
    "\n",
    "* 확률 밀도 함수(pdf)를 통해 확률 변수의 분포 정도를 표현\n",
    "\n",
    "* 0과 1사이의 균등 분포에 대한 pdf"
   ]
  },
  {
   "cell_type": "code",
   "execution_count": 3,
   "metadata": {
    "collapsed": true
   },
   "outputs": [],
   "source": [
    "def uniform_pdf(x):\n",
    "   return 1 if x>=0 and x<1 else 0"
   ]
  },
  {
   "cell_type": "markdown",
   "metadata": {},
   "source": [
    "* random.random()을 이용하여 균등 분포를 지니는 확률 변수 생성\n",
    "\n",
    "* 0과 1사이 균등 분포의 확률 누적 함수(cdf):"
   ]
  },
  {
   "cell_type": "code",
   "execution_count": 4,
   "metadata": {
    "collapsed": true
   },
   "outputs": [],
   "source": [
    "def uniform_cdf(x):\n",
    "    if x<0: return 0\n",
    "    elif x<1: return x\n",
    "    else: return 1"
   ]
  },
  {
   "cell_type": "markdown",
   "metadata": {},
   "source": [
    "### 연속 분포 – 정규 분포\n",
    "\n",
    "* 벨 모양의 정규분포는 평균 𝜇와 표준 편차 𝜎를 이용하여 표현\n",
    "* 정규 분포의 pdf:\n",
    "$$ 𝑓(𝑥)=\\frac{1}{\\sqrt{2𝜋}\\sigma} \\exp \\left( -\\frac{(𝑥−𝜇)^2}{2𝜎^2} \\right) $$"
   ]
  },
  {
   "cell_type": "code",
   "execution_count": 23,
   "metadata": {
    "collapsed": true
   },
   "outputs": [],
   "source": [
    "def normal_pdf(x, mu=0, sigma=1):\n",
    "    sqrt_two_pi = math.sqrt(2*math.pi)\n",
    "    return (math.exp(-(x-mu)**2/2/sigma**2)/(sqrt_two_pi*sigma))"
   ]
  },
  {
   "cell_type": "markdown",
   "metadata": {},
   "source": [
    "### 정규분포 pdf 그리기"
   ]
  },
  {
   "cell_type": "code",
   "execution_count": 6,
   "metadata": {
    "collapsed": true
   },
   "outputs": [],
   "source": [
    "%matplotlib inline "
   ]
  },
  {
   "cell_type": "code",
   "execution_count": 7,
   "metadata": {
    "collapsed": false
   },
   "outputs": [
    {
     "data": {
      "image/png": "[encoded data removed]",
      "text/plain": [
       "<matplotlib.figure.Figure at 0x9e42f60>"
      ]
     },
     "metadata": {},
     "output_type": "display_data"
    }
   ],
   "source": [
    "from matplotlib import pyplot as plt\n",
    "xs = [x / 10.0 for x in range(-50, 50)]\n",
    "plt.plot(xs,[normal_pdf(x,sigma=1) for x in xs], '-', label='mu=0,sigma=1')\n",
    "plt.plot(xs,[normal_pdf(x,sigma=2) for x in xs], '--', label='mu=0,sigma=2')\n",
    "plt.plot(xs,[normal_pdf(x,sigma=0.5) for x in xs], ':', label='mu=0,sigma=0.5')\n",
    "plt.plot(xs,[normal_pdf(x,mu=-1)   for x in xs], '-.', label='mu=-1,sigma=1')\n",
    "plt.legend()\n",
    "plt.show()"
   ]
  },
  {
   "cell_type": "markdown",
   "metadata": {},
   "source": [
    "### 정규분포의 cdf\n",
    "\n",
    "* 정규 분포의 cdf:\n",
    "$$ 𝐹(𝑥)=  \\frac{1}{2} \\left\\{ 1+ erf\\left( \\frac{𝑥− \\mu}{\\sqrt{2} \\sigma} \\right) \\right\\}$$\n",
    "* erf는 에러 함수라고 불리며 math.erf를 통해 계산"
   ]
  },
  {
   "cell_type": "code",
   "execution_count": 8,
   "metadata": {
    "collapsed": true
   },
   "outputs": [],
   "source": [
    "def normal_cdf(x, mu=0, sigma=1):\n",
    "    return (1+math.erf((x-mu)/math.sqrt(2)/sigma))/2"
   ]
  },
  {
   "cell_type": "markdown",
   "metadata": {},
   "source": [
    "### 정규분포 cdf 그리기"
   ]
  },
  {
   "cell_type": "code",
   "execution_count": 9,
   "metadata": {
    "collapsed": true
   },
   "outputs": [],
   "source": [
    "%matplotlib inline "
   ]
  },
  {
   "cell_type": "code",
   "execution_count": 11,
   "metadata": {
    "collapsed": false
   },
   "outputs": [
    {
     "data": {
      "image/png": "[encoded data removed]",
      "text/plain": [
       "<matplotlib.figure.Figure at 0xae31cc0>"
      ]
     },
     "metadata": {},
     "output_type": "display_data"
    }
   ],
   "source": [
    "xs = [x / 10.0 for x in range(-50, 50)]\n",
    "plt.plot(xs,[normal_cdf(x,sigma=1) for x in xs], '-', label='mu=0,sigma=1')\n",
    "plt.plot(xs,[normal_cdf(x,sigma=2) for x in xs], '--', label='mu=0,sigma=2')\n",
    "plt.plot(xs,[normal_cdf(x,sigma=0.5) for x in xs], ':', label='mu=0,sigma=0.5')\n",
    "plt.plot(xs,[normal_cdf(x,mu=-1) for x in xs], '-.', label='mu=-1,sigma=1')\n",
    "plt.legend(loc=4) # bottom right\n",
    "plt.show()"
   ]
  },
  {
   "cell_type": "markdown",
   "metadata": {},
   "source": [
    "### 정규분포 cdf의 역함수\n",
    "\n",
    "* 주어진 𝑝에 대해, 𝑝=𝐹(𝑧)를 만족하는 𝑧를 찾는다.\n",
    "* 이진 탐색을 이용한 방법\n",
    "  * 먼저 탐색 도메인을 (low_z, high_z)으로 설정\n",
    "  * 이 도메인의 중앙값인 mid_z에서 𝐹(mid_z)를 계산\n",
    "   * 만약 𝐹(mid_z)>𝑝 이면 탐색 도메인을 (low_z, mid_z)으로 재설정\n",
    "   * 만약 𝐹(mid_z)<𝑝 이면 탐색 도메인을 (mid_z, high_z)으로 재설정\n",
    "   * 만약 𝐹(mid_z)≈𝑝 이면 탐색 종료\n",
    "\n",
    "### 정규분포 cdf의 역함수"
   ]
  },
  {
   "cell_type": "code",
   "execution_count": 21,
   "metadata": {
    "collapsed": false
   },
   "outputs": [],
   "source": [
    "def inverse_normal_cdf(p, mu=0, sigma=1, tolerance=0.00001):\n",
    "    if mu != 0 or sigma != 1:\n",
    "        return mu + sigma * inverse_normal_cdf(p, tolerance=tolerance)\n",
    "\n",
    "    low_z, low_p = -10.0, 0                 # normal_cdf(-10)은 0과 매우 가까움\n",
    "    hi_z,  hi_p  =  10.0, 1                 # normal_cdf(10)은 1과 매우 가까움\n",
    "    while hi_p - low_p > tolerance:\n",
    "        mid_z = (low_z + hi_z) / 2          # 중앙값\n",
    "        mid_p = normal_cdf(mid_z)           # 중앙값의 cdf\n",
    "        if mid_p < p:                       # 중앙값이 아직 작으면 윗쪽을 탐색\n",
    "            low_z, low_p = mid_z, mid_p\n",
    "        elif mid_p > p:                     # 중앙값이 아직 크면, 아랫쪽을 탐색\n",
    "            hi_z, hi_p = mid_z, mid_p\n",
    "        else:\n",
    "            break\n",
    "    return mid_z"
   ]
  },
  {
   "cell_type": "markdown",
   "metadata": {},
   "source": [
    "### 중심 극한 정리\n",
    "\n",
    "* 같은 분포를 지니는 독립 확률 변수들의 합 혹은 평균은 정규 분포와 가까워 진다.\n",
    "* $𝑋_1,…,𝑋_𝑛$ 을 평균 $\\mu$, 표준 편차 $\\sigma$를 가질 때, $n$이 충분히 크면\n",
    "$$\\frac{ 𝑋_1+⋯+𝑋_𝑛−n\\mu}{ \\sigma \\sqrt{n}} $$\n",
    "\n",
    "이 평균 0, 표준편차 1인 정규 분포에 근사함."
   ]
  },
  {
   "cell_type": "code",
   "execution_count": null,
   "metadata": {
    "collapsed": true
   },
   "outputs": [],
   "source": []
  }
 ],
 "metadata": {
  "kernelspec": {
   "display_name": "Python 2",
   "language": "python",
   "name": "python2"
  },
  "language_info": {
   "codemirror_mode": {
    "name": "ipython",
    "version": 2
   },
   "file_extension": ".py",
   "mimetype": "text/x-python",
   "name": "python",
   "nbconvert_exporter": "python",
   "pygments_lexer": "ipython2",
   "version": "2.7.11"
  }
 },
 "nbformat": 4,
 "nbformat_minor": 0
}

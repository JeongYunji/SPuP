{
 "cells": [
  {
   "cell_type": "markdown",
   "metadata": {},
   "source": [
    "### 독립과 종속\n",
    "\n",
    "* 간략히 말해서, 사건 $𝐸$와 $𝐹$가 독립이라는 것은, 우리가 $𝐸$의 사건이 발생했는지에 대한 정보를 알고 있을 때, 이것이 $𝐹$에 대한 정보를 주지 못하면 사건 $𝐸$와 $𝐹$는 독립이라 한다.\n",
    "\n",
    "* $𝑃(𝐸,𝐹) = 𝑃(𝐸)𝑃(𝐹)$"
   ]
  },
  {
   "cell_type": "markdown",
   "metadata": {},
   "source": [
    "### 조건부 확률\n",
    "\n",
    "* 만약 사건 $E$와 $F$가 독립이 아닐 수 있으면, 다음과 같이 조건부 확률을 정의\n",
    "\\begin{aligned}\n",
    "𝑃(𝐸|𝐹)=\\frac{𝑃(𝐸,𝐹)}{𝑃(𝐹)}\n",
    "\\end{aligned}\n",
    "* 사건 $𝐹$가 발생하였을 때, $𝐸$가 발생할 확률\n",
    "\n",
    "### Example\n",
    "\n",
    "* 두 자녀가 있는 가족을 생각해 보자.\n",
    "* 각 자녀는 같은 확률로 남자 혹은 여자일 수 있다.\n",
    "* 둘째의 성별은 첫째의 성별과 독립적이다.\n",
    "* 첫째가 딸(G)일 때, 두 자녀가 모두 딸(B)일 확률?\n",
    "$$𝑃(𝐵|𝐺)=\\frac{𝑃(𝐵,𝐺)}{𝑃(𝐺)} = \\frac{𝑃(𝐵)}{𝑃(𝐺)} = \\frac{1}{2}$$\n",
    "* 적어도 하나의 아이가 딸일 때(L), 두 아이가 모두 딸(B)일 확률?\n",
    "$$𝑃(𝐵|𝐿)=\\frac{𝑃(𝐵,𝐿)}{𝑃(𝐿)} = \\frac{𝑃(𝐵)}{𝑃(𝐿)} = \\frac{1}{3} $$\n",
    "  \n",
    "### 랜덤 가족을 만들어 결과 확인"
   ]
  },
  {
   "cell_type": "code",
   "execution_count": 6,
   "metadata": {
    "collapsed": false
   },
   "outputs": [
    {
     "name": "stdout",
     "output_type": "stream",
     "text": [
      "P(both | older): 0.514228456914\n",
      "P(both | either):  0.341541328364\n"
     ]
    }
   ],
   "source": [
    "from __future__ import division\n",
    "import math, random\n",
    "\n",
    "def random_kid(): \n",
    "    return random.choice([\"boy\", \"girl\"])\n",
    "\n",
    "both_girls, older_girl, either_girl = 0, 0, 0\n",
    "random.seed(0)\n",
    "\n",
    "for _ in range(10000):\n",
    "        younger = random_kid()\n",
    "        older = random_kid()\n",
    "        if older == \"girl\":  \n",
    "            older_girl += 1\n",
    "        if older == \"girl\" and younger == \"girl\":  \n",
    "            both_girls += 1\n",
    "        if older == \"girl\" or younger == \"girl\":    \n",
    "            either_girl += 1\n",
    "\n",
    "print \"P(both | older):\", both_girls / older_girl      \n",
    "print \"P(both | either): \", both_girls / either_girl"
   ]
  },
  {
   "cell_type": "markdown",
   "metadata": {},
   "source": [
    "### Bayes's theorem\n",
    "\n",
    "* $𝑃(𝐹|𝐸)$를 알 때 $𝑃(𝐸|𝐹)$를 계산\u000b",
    "\n",
    "$$ 𝑃(𝐸|𝐹)= \\frac{𝑃(𝐸,𝐹)}{𝑃(𝐹)} = \\frac{𝑃(𝐹|𝐸)𝑃(𝐸)}{𝑃(𝐹)} $$\n",
    "\n",
    "* 사건 $𝐹$는 $𝐹,𝐸$와 $𝐹,𝐸^𝑐$로 나눌 수 있음\n",
    "$$ 𝑃(𝐸|𝐹)= \\frac{𝑃(𝐹|𝐸)𝑃(𝐸)}{ 𝑃(𝐹,𝐸)+𝑃(𝐹,𝐸^𝑐)} = \\frac{𝑃(𝐹|𝐸)𝑃(𝐸)}{𝑃(𝐹|𝐸)𝑃(𝐸)+𝑃(𝐹|𝐸^𝑐)𝑃(𝐸^𝑐)} $$\n",
    "           \n",
    "           \n",
    "### 예제: Bayes's theorem\n",
    "\n",
    "* 10,000명당 1명꼴로 발생하는 질병\n",
    "* 99% 정확성을 지니는 질병 테스트\n",
    "* 질병에 대한 랜덤 테스트를 진행했을 때, 양성 반응의 의미\n",
    "  * 𝐷 : 질병 감염, 𝑇 : 양성 반응.\n",
    "$$𝑃(𝐷|𝑇)= \\frac{𝑃(𝑇|𝐷)𝑃(𝐷)}{𝑃(𝑇|𝐷)𝑃(𝐷)+𝑃(𝑇|𝐷^𝑐 )𝑃(𝐷^𝑐 )}$$\n",
    "  * $𝑃(𝑇|𝐷)=0.99,  𝑃(𝑇|𝐷^𝑐 )=0.01$\n",
    "  * $𝑃(𝐷)=0.0001,  𝑃(𝐷^𝑐 )=0.9999$\n",
    "* ⇒ $𝑃(𝐷|𝑇)=0.98\\%$\n",
    "* 0.98%의 양성 반응자만이 실제로 질병에 걸림을 알 수 있음\n",
    "* 실제 테스트에서는 증상이 있는 환자가 검사를 받기 때문에, \n",
    "* 양성반응+증상이 있음을 조건으로 병에 걸렸을 확률을 계산하면, 확률은 보다 상승\n",
    "\n",
    "### 확률 변수\n",
    "\n",
    "* 확률 변수는 특정 확률 분포를 따르며 랜덤 값을 가지는 변수를 말함\n",
    "  * 동전의 앞이 나오면 1, 뒷면이 나오면 0\n",
    "  * 동전을 9번 던졌을 때 앞면의 수 \n",
    "   * range(10)에서 고를 수 있는 임의의 숫자\n",
    "* 기댓값 : 발생 가능한 확률 변수 값에 확률을 곱한 뒤 합하여 얻는 값\n",
    " * 동전 던져서 나온 앞면의 수 : 0.5\n",
    " * 주사위의 값 : 3.5\n",
    "\n",
    "### 연속 분포 – 균등 분포\n",
    "\n",
    "* 예: 0과 1사이의 균등 분포 (uniform distribution)\n",
    "\n",
    "* 확률 밀도 함수(pdf)를 통해 확률 변수의 분포 정도를 표현\n",
    "\n",
    "* 0과 1사이의 균등 분포에 대한 pdf"
   ]
  },
  {
   "cell_type": "code",
   "execution_count": 7,
   "metadata": {
    "collapsed": true
   },
   "outputs": [],
   "source": [
    "def uniform_pdf(x):\n",
    "   return 1 if x>=0 and x<1 else 0"
   ]
  },
  {
   "cell_type": "markdown",
   "metadata": {},
   "source": [
    "* random.random()을 이용하여 균등 분포를 지니는 확률 변수 생성\n",
    "\n",
    "* 0과 1사이 균등 분포의 확률 누적 함수(cdf):"
   ]
  },
  {
   "cell_type": "code",
   "execution_count": 8,
   "metadata": {
    "collapsed": true
   },
   "outputs": [],
   "source": [
    "def uniform_cdf(x):\n",
    "    if x<0: return 0\n",
    "    elif x<1: return x\n",
    "    else: return 1"
   ]
  },
  {
   "cell_type": "markdown",
   "metadata": {},
   "source": [
    "### 연속 분포 – 정규 분포\n",
    "\n",
    "* 벨 모양의 정규분포는 평균 𝜇와 표준 편차 𝜎를 이용하여 표현\n",
    "* 정규 분포의 pdf:\n",
    "$$ 𝑓(𝑥)=\\frac{1}{\\sqrt{2𝜋}\\sigma} \\exp \\left( -\\frac{(𝑥−𝜇)^2}{2𝜎^2} \\right) $$"
   ]
  },
  {
   "cell_type": "code",
   "execution_count": 9,
   "metadata": {
    "collapsed": true
   },
   "outputs": [],
   "source": [
    "def normal_pdf(x, mu=0, sigma=1):\n",
    "    sqrt_two_pi = math.sqrt(2*math.pi)\n",
    "    return (math.exp(-(x-mu)**2/2/sigma**2)/(sqrt_two_pi*sigma))"
   ]
  },
  {
   "cell_type": "markdown",
   "metadata": {},
   "source": [
    "### 정규분포 pdf 그리기"
   ]
  },
  {
   "cell_type": "code",
   "execution_count": 10,
   "metadata": {
    "collapsed": true
   },
   "outputs": [],
   "source": [
    "%matplotlib inline "
   ]
  },
  {
   "cell_type": "code",
   "execution_count": 11,
   "metadata": {
    "collapsed": false
   },
   "outputs": [
    {
     "data": {
      "image/png": "[encoded data removed]",
      "text/plain": [
       "<matplotlib.figure.Figure at 0x759fcc0>"
      ]
     },
     "metadata": {},
     "output_type": "display_data"
    }
   ],
   "source": [
    "from matplotlib import pyplot as plt\n",
    "xs = [x / 10.0 for x in range(-50, 50)]\n",
    "plt.plot(xs,[normal_pdf(x,sigma=1) for x in xs], '-', label='mu=0,sigma=1')\n",
    "plt.plot(xs,[normal_pdf(x,sigma=2) for x in xs], '--', label='mu=0,sigma=2')\n",
    "plt.plot(xs,[normal_pdf(x,sigma=0.5) for x in xs], ':', label='mu=0,sigma=0.5')\n",
    "plt.plot(xs,[normal_pdf(x,mu=-1)   for x in xs], '-.', label='mu=-1,sigma=1')\n",
    "plt.legend()\n",
    "plt.show()"
   ]
  },
  {
   "cell_type": "markdown",
   "metadata": {},
   "source": [
    "### 정규분포의 cdf\n",
    "\n",
    "* 정규 분포의 cdf:\n",
    "$$ 𝐹(𝑥)=  \\frac{1}{2} \\left\\{ 1+ erf\\left( \\frac{𝑥− \\mu}{\\sqrt{2} \\sigma} \\right) \\right\\}$$\n",
    "* erf는 에러 함수라고 불리며 math.erf를 통해 계산"
   ]
  },
  {
   "cell_type": "code",
   "execution_count": 12,
   "metadata": {
    "collapsed": true
   },
   "outputs": [],
   "source": [
    "def normal_cdf(x, mu=0, sigma=1):\n",
    "    return (1+math.erf((x-mu)/math.sqrt(2)/sigma))/2"
   ]
  },
  {
   "cell_type": "markdown",
   "metadata": {},
   "source": [
    "### 정규분포 cdf 그리기"
   ]
  },
  {
   "cell_type": "code",
   "execution_count": 13,
   "metadata": {
    "collapsed": false
   },
   "outputs": [
    {
     "data": {
      "image/png": "[encoded data removed]",
      "text/plain": [
       "<matplotlib.figure.Figure at 0x772f1d0>"
      ]
     },
     "metadata": {},
     "output_type": "display_data"
    }
   ],
   "source": [
    "xs = [x / 10.0 for x in range(-50, 50)]\n",
    "plt.plot(xs,[normal_cdf(x,sigma=1) for x in xs], '-', label='mu=0,sigma=1')\n",
    "plt.plot(xs,[normal_cdf(x,sigma=2) for x in xs], '--', label='mu=0,sigma=2')\n",
    "plt.plot(xs,[normal_cdf(x,sigma=0.5) for x in xs], ':', label='mu=0,sigma=0.5')\n",
    "plt.plot(xs,[normal_cdf(x,mu=-1) for x in xs], '-.', label='mu=-1,sigma=1')\n",
    "plt.legend(loc=4) # bottom right\n",
    "plt.show()"
   ]
  },
  {
   "cell_type": "markdown",
   "metadata": {},
   "source": [
    "### 정규분포 cdf의 역함수\n",
    "\n",
    "* 주어진 𝑝에 대해, 𝑝=𝐹(𝑧)를 만족하는 𝑧를 찾는다.\n",
    "* 이진 탐색을 이용한 방법\n",
    "  * 먼저 탐색 도메인을 (low_z, high_z)으로 설정\n",
    "  * 이 도메인의 중앙값인 mid_z에서 𝐹(mid_z)를 계산\n",
    "   * 만약 𝐹(mid_z)>𝑝 이면 탐색 도메인을 (low_z, mid_z)으로 재설정\n",
    "   * 만약 𝐹(mid_z)<𝑝 이면 탐색 도메인을 (mid_z, high_z)으로 재설정\n",
    "   * 만약 𝐹(mid_z)≈𝑝 이면 탐색 종료\n",
    "\n",
    "### 정규분포 cdf의 역함수"
   ]
  },
  {
   "cell_type": "code",
   "execution_count": 14,
   "metadata": {
    "collapsed": false
   },
   "outputs": [],
   "source": [
    "def inverse_normal_cdf(p, mu=0, sigma=1, tolerance=0.00001):\n",
    "    if mu != 0 or sigma != 1:\n",
    "        return mu + sigma * inverse_normal_cdf(p, tolerance=tolerance)\n",
    "\n",
    "    low_z, low_p = -10.0, 0                 # normal_cdf(-10)은 0과 매우 가까움\n",
    "    hi_z,  hi_p  =  10.0, 1                 # normal_cdf(10)은 1과 매우 가까움\n",
    "    while hi_p - low_p > tolerance:\n",
    "        mid_z = (low_z + hi_z) / 2          # 중앙값\n",
    "        mid_p = normal_cdf(mid_z)           # 중앙값의 cdf\n",
    "        if mid_p < p:                       # 중앙값이 아직 작으면 윗쪽을 탐색\n",
    "            low_z, low_p = mid_z, mid_p\n",
    "        elif mid_p > p:                     # 중앙값이 아직 크면, 아랫쪽을 탐색\n",
    "            hi_z, hi_p = mid_z, mid_p\n",
    "        else:\n",
    "            break\n",
    "    return mid_z"
   ]
  },
  {
   "cell_type": "markdown",
   "metadata": {},
   "source": [
    "### 중심 극한 정리\n",
    "\n",
    "* 같은 분포를 지니는 독립 확률 변수들의 합 혹은 평균은 정규 분포와 가까워 진다.\n",
    "* $𝑋_1,…,𝑋_𝑛$ 을 평균 $\\mu$, 표준 편차 $\\sigma$를 가질 때, $n$이 충분히 크면\n",
    "$$\\frac{ 𝑋_1+⋯+𝑋_𝑛−n\\mu}{ \\sigma \\sqrt{n}} $$\n",
    "\n",
    "이 평균 0, 표준편차 1인 정규 분포에 근사함."
   ]
  },
  {
   "cell_type": "markdown",
   "metadata": {
    "collapsed": true
   },
   "source": [
    "#### 베르누이 분포와 이항 분포\n",
    "\n",
    "* 베르누이 분포 : p의 확률로 성공 시 1, 실패 시 0\n",
    "* 이항 분포 : n회 독립 베르누이 시행 시 총 성공 횟수"
   ]
  },
  {
   "cell_type": "code",
   "execution_count": 15,
   "metadata": {
    "collapsed": true
   },
   "outputs": [],
   "source": [
    "def bernoulli_trial(p):\n",
    "    return 1 if random.random() < p else 0"
   ]
  },
  {
   "cell_type": "code",
   "execution_count": 16,
   "metadata": {
    "collapsed": true
   },
   "outputs": [],
   "source": [
    "def binomial(n, p):\n",
    "    return sum(bernoulli_trial(p) for _ in range(n))"
   ]
  },
  {
   "cell_type": "markdown",
   "metadata": {},
   "source": [
    "이항 분포의 평균 : $np$,  표준편차 : $ \\sqrt{np(1-p)}$"
   ]
  },
  {
   "cell_type": "markdown",
   "metadata": {},
   "source": [
    "#### 이항분포와 중심 극한 정리"
   ]
  },
  {
   "cell_type": "code",
   "execution_count": 22,
   "metadata": {
    "collapsed": false
   },
   "outputs": [],
   "source": [
    "from collections import Counter\n",
    "def make_hist(n, p, num_points):\n",
    "    data = [binomial(n, p) for _ in range(num_points)]\n",
    "    # 이항 분포 샘플을 히스토그램으로\n",
    "    histogram = Counter(data)                  #from collections import Counter\n",
    "    plt.bar([x - 0.4 for x in histogram.keys()],\n",
    "            [v / float(num_points) for v in histogram.values()], 0.8, color='0.75')\n",
    "    \n",
    "    mu, sigma = p * n, math.sqrt(n * p * (1 - p))\n",
    "    # 정규 분포 그리기\n",
    "    xs = range(min(data), max(data) + 1)\n",
    "    ys = [normal_cdf(i + 0.5, mu, sigma) - normal_cdf(i - 0.5, mu, sigma) for i in xs]\n",
    "    plt.plot(xs,ys)\n",
    "    plt.show()"
   ]
  },
  {
   "cell_type": "code",
   "execution_count": 23,
   "metadata": {
    "collapsed": false
   },
   "outputs": [
    {
     "data": {
      "image/png": "[encoded data removed]",
      "text/plain": [
       "<matplotlib.figure.Figure at 0x74c0908>"
      ]
     },
     "metadata": {},
     "output_type": "display_data"
    }
   ],
   "source": [
    "make_hist(100, 0.75, 10000)"
   ]
  },
  {
   "cell_type": "markdown",
   "metadata": {},
   "source": [
    "### numpy의 기능을 이용한 확률, 통계 함수"
   ]
  },
  {
   "cell_type": "code",
   "execution_count": 29,
   "metadata": {
    "collapsed": false
   },
   "outputs": [],
   "source": [
    "import numpy as np\n",
    "x = np.random.rand(10)                         # 10개의 uniform 확률 변수 array\n",
    "y = np.random.randint(0, 10, 20)               # 0이상 10미만의 20개의 random 정수 \n",
    "z = np.random.randn(10)                        # 10개의 표준정규 확률 변수 array\n",
    "b = np.random.binomial(n=10, p=0.4, size=10)   # n, p의 모수를 지니는 이항분포를 따르는 10개의 확률 변수\n",
    "t = np.random.standard_t(df=5, size=10)        # 자유도 nu의 t분포를 따르는 10개의 확률 변수"
   ]
  },
  {
   "cell_type": "markdown",
   "metadata": {},
   "source": [
    "[numpy.random.rand](https://docs.scipy.org/doc/numpy/reference/generated/numpy.random.rand.html) \n",
    "[numpy.random.randint](https://docs.scipy.org/doc/numpy-1.12.0/reference/generated/numpy.random.randint.html)   \n",
    "[numpy.random.randn](https://docs.scipy.org/doc/numpy/reference/generated/numpy.random.randn.html)   \n",
    "[numpy.random.binomial](https://docs.scipy.org/doc/numpy/reference/generated/numpy.random.binomial.html)   \n",
    "[numpy.random.standard_t](https://docs.scipy.org/doc/numpy/reference/generated/numpy.random.standard_t.html)"
   ]
  },
  {
   "cell_type": "markdown",
   "metadata": {},
   "source": [
    "### numpy의 기능을 이용한 통계량"
   ]
  },
  {
   "cell_type": "code",
   "execution_count": 31,
   "metadata": {
    "collapsed": true
   },
   "outputs": [],
   "source": [
    "x = np.random.normal(3, 2, 10000)     #평균 3, 표준편차 2인 정규분포"
   ]
  },
  {
   "cell_type": "markdown",
   "metadata": {},
   "source": [
    "다음 중의 방법으로 array의 평균, 표준편차를 구함"
   ]
  },
  {
   "cell_type": "code",
   "execution_count": 33,
   "metadata": {
    "collapsed": false
   },
   "outputs": [
    {
     "data": {
      "text/plain": [
       "3.0019378123619052"
      ]
     },
     "execution_count": 33,
     "metadata": {},
     "output_type": "execute_result"
    }
   ],
   "source": [
    "x.mean()\n",
    "np.mean(x)"
   ]
  },
  {
   "cell_type": "code",
   "execution_count": 34,
   "metadata": {
    "collapsed": false
   },
   "outputs": [
    {
     "data": {
      "text/plain": [
       "2.0053396655288975"
      ]
     },
     "execution_count": 34,
     "metadata": {},
     "output_type": "execute_result"
    }
   ],
   "source": [
    "x.std()\n",
    "np.std(x)"
   ]
  },
  {
   "cell_type": "markdown",
   "metadata": {},
   "source": [
    "상관계수 구하는 예제"
   ]
  },
  {
   "cell_type": "code",
   "execution_count": 36,
   "metadata": {
    "collapsed": false
   },
   "outputs": [
    {
     "data": {
      "text/plain": [
       "array([[  1.00000000e+00,  -6.18460270e-04],\n",
       "       [ -6.18460270e-04,   1.00000000e+00]])"
      ]
     },
     "execution_count": 36,
     "metadata": {},
     "output_type": "execute_result"
    }
   ],
   "source": [
    "y = np.random.normal(1, 1.5, 10000) \n",
    "np.corrcoef(x, y)"
   ]
  },
  {
   "cell_type": "markdown",
   "metadata": {},
   "source": [
    "### 정규 모집단 소표본"
   ]
  },
  {
   "cell_type": "code",
   "execution_count": 39,
   "metadata": {
    "collapsed": false
   },
   "outputs": [
    {
     "data": {
      "text/plain": [
       "(array([  6.40616534e-04,   6.40616534e-04,   4.80462401e-04,\n",
       "          3.36323680e-03,   8.00770668e-03,   1.93786502e-02,\n",
       "          5.01282438e-02,   1.34529472e-01,   2.30301644e-01,\n",
       "          3.38565838e-01,   3.48175086e-01,   2.42153050e-01,\n",
       "          1.33728701e-01,   5.57336385e-02,   2.30621952e-02,\n",
       "          8.00770668e-03,   2.08200374e-03,   1.44138720e-03,\n",
       "          8.00770668e-04,   3.20308267e-04]),\n",
       " array([-6.27600526, -5.65160676, -5.02720827, -4.40280977, -3.77841128,\n",
       "        -3.15401278, -2.52961429, -1.90521579, -1.28081729, -0.6564188 ,\n",
       "        -0.0320203 ,  0.59237819,  1.21677669,  1.84117518,  2.46557368,\n",
       "         3.08997217,  3.71437067,  4.33876916,  4.96316766,  5.58756616,\n",
       "         6.21196465]),\n",
       " <a list of 20 Patch objects>)"
      ]
     },
     "execution_count": 39,
     "metadata": {},
     "output_type": "execute_result"
    },
    {
     "data": {
      "image/png": "[encoded data removed]",
      "text/plain": [
       "<matplotlib.figure.Figure at 0x85cdf98>"
      ]
     },
     "metadata": {},
     "output_type": "display_data"
    }
   ],
   "source": [
    "import numpy as np\n",
    "import matplotlib.pyplot as plt\n",
    "\n",
    "N = 10000\n",
    "mean_x = np.zeros(N)\n",
    "std_x = np.zeros(N)\n",
    "ts = np.zeros(N)\n",
    "\n",
    "for i in range(N):\n",
    "    mu, sigma, n = 5, 3, 10\n",
    "    x = np.random.normal(mu, sigma, n)\n",
    "    mean_x[i], std_x[i] = x.mean(), x.std()\n",
    "    ts[i] = (mean_x[i] - mu)/(std_x[i]/np.sqrt(n))\n",
    "    \n",
    "plt.hist(ts, bins=20, normed=True)"
   ]
  },
  {
   "cell_type": "markdown",
   "metadata": {},
   "source": [
    "### random walks"
   ]
  },
  {
   "cell_type": "code",
   "execution_count": 41,
   "metadata": {
    "collapsed": false
   },
   "outputs": [
    {
     "data": {
      "image/png": "[encoded data removed]",
      "text/plain": [
       "<matplotlib.figure.Figure at 0x863d198>"
      ]
     },
     "metadata": {},
     "output_type": "display_data"
    }
   ],
   "source": [
    "import numpy as np\n",
    "import matplotlib.pyplot as plt\n",
    "\n",
    "position = 0\n",
    "walk = [position]\n",
    "steps = 1000\n",
    "for _ in range(steps):\n",
    "    if np.random.randint(0,2): step=1\n",
    "    else: step=-1\n",
    "    position += step\n",
    "    walk.append(position)\n",
    "    \n",
    "plt.plot(range(steps+1), walk) \n",
    "plt.show()"
   ]
  },
  {
   "cell_type": "markdown",
   "metadata": {},
   "source": [
    "### 브라운 운동 - Brownian motion"
   ]
  },
  {
   "cell_type": "code",
   "execution_count": 44,
   "metadata": {
    "collapsed": false
   },
   "outputs": [
    {
     "data": {
      "image/png": "[encoded data removed]",
      "text/plain": [
       "<matplotlib.figure.Figure at 0x8ae7358>"
      ]
     },
     "metadata": {},
     "output_type": "display_data"
    }
   ],
   "source": [
    "import numpy as np\n",
    "import matplotlib.pyplot as plt\n",
    "\n",
    "position = 0\n",
    "walk = [position]\n",
    "steps = 1000\n",
    "for _ in range(steps):\n",
    "    step = np.random.normal(loc=0, scale=1)\n",
    "    position += step\n",
    "    walk.append(position)\n",
    "    \n",
    "plt.plot(range(steps+1), walk) \n",
    "plt.show()"
   ]
  },
  {
   "cell_type": "code",
   "execution_count": null,
   "metadata": {
    "collapsed": true
   },
   "outputs": [],
   "source": [
    "scipy.stats"
   ]
  }
 ],
 "metadata": {
  "kernelspec": {
   "display_name": "Python 2",
   "language": "python",
   "name": "python2"
  },
  "language_info": {
   "codemirror_mode": {
    "name": "ipython",
    "version": 2
   },
   "file_extension": ".py",
   "mimetype": "text/x-python",
   "name": "python",
   "nbconvert_exporter": "python",
   "pygments_lexer": "ipython2",
   "version": "2.7.13"
  }
 },
 "nbformat": 4,
 "nbformat_minor": 0
}

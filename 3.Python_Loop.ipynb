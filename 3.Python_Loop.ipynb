{
 "cells": [
  {
   "cell_type": "markdown",
   "metadata": {},
   "source": [
    "### 반복문\n",
    "\n",
    "#### while\n",
    "\n",
    "같은 코드를 while문을 이용하여 여러 번 실행할 수 있음"
   ]
  },
  {
   "cell_type": "code",
   "execution_count": 1,
   "metadata": {
    "collapsed": false
   },
   "outputs": [
    {
     "name": "stdout",
     "output_type": "stream",
     "text": [
      "15\n"
     ]
    }
   ],
   "source": [
    "x = 0\n",
    "j = 3\n",
    "while j>0:\n",
    "    x += 5\n",
    "    j -= 1\n",
    "print x "
   ]
  },
  {
   "cell_type": "markdown",
   "metadata": {},
   "source": [
    "#### while문 문법\n",
    "\n",
    "while < test statement >:  \n",
    "&nbsp;&nbsp;&nbsp;< test 결과가 True일 경우 해야 할 일 >\n",
    "    \n",
    "if문과 비슷한 구조를 지님   \n",
    "* < test statement >가 True일 경우 해야 할 일을 수행하고 다시 while문으로 돌아가 <test statement>가 참인지 체크  \n",
    "* < test statement >가 False일 경우 while문 종료  \n",
    "\n",
    "while문 내의 코드를 잘 작성하여 무한 루프(infinite loop)가 발생하지 않도록 주의\n",
    "\n",
    "#### 무한 루프의 예\n",
    "\n",
    "j의 값에 변화가 없기 때문에 무한히 \"Hello world\"를 출력"
   ]
  },
  {
   "cell_type": "code",
   "execution_count": null,
   "metadata": {
    "collapsed": true
   },
   "outputs": [],
   "source": [
    "j = 3\n",
    "while j>0:\n",
    "    print \"Hello world\""
   ]
  },
  {
   "cell_type": "markdown",
   "metadata": {},
   "source": [
    "while문 내에서 j의 값을 변화하도록 수정하여 무한루프 문제 해결\n",
    "* j의 값이 매 loop마다 1씩 감소하며 세 번 \"Hello world\"를 출력"
   ]
  },
  {
   "cell_type": "code",
   "execution_count": 2,
   "metadata": {
    "collapsed": false
   },
   "outputs": [
    {
     "name": "stdout",
     "output_type": "stream",
     "text": [
      "Hello world\n",
      "Hello world\n",
      "Hello world\n"
     ]
    }
   ],
   "source": [
    "j = 3\n",
    "while j>0:\n",
    "    j -= 1\n",
    "    print \"Hello world\""
   ]
  },
  {
   "cell_type": "markdown",
   "metadata": {},
   "source": [
    "* 반복문 다시 살펴 보기"
   ]
  },
  {
   "cell_type": "code",
   "execution_count": 3,
   "metadata": {
    "collapsed": false
   },
   "outputs": [
    {
     "name": "stdout",
     "output_type": "stream",
     "text": [
      "5\n",
      "10\n",
      "15\n"
     ]
    }
   ],
   "source": [
    "x = 0\n",
    "j = 3\n",
    "while j>0:\n",
    "    x += 5\n",
    "    j -= 1\n",
    "    print x "
   ]
  },
  {
   "cell_type": "markdown",
   "metadata": {},
   "source": [
    "* while문 검사에 사용하는 변수 j는 while문 바깥에서 미리 초기화\n",
    "* while문 내에서 j의 값을 변화시키면서 무한 루프를 방지"
   ]
  },
  {
   "cell_type": "markdown",
   "metadata": {},
   "source": [
    "#### 예제"
   ]
  },
  {
   "cell_type": "code",
   "execution_count": 4,
   "metadata": {
    "collapsed": false
   },
   "outputs": [
    {
     "name": "stdout",
     "output_type": "stream",
     "text": [
      "3*3 = 9\n"
     ]
    }
   ],
   "source": [
    "x = 3\n",
    "ans = 0\n",
    "itersLeft = x\n",
    "while (itersLeft != 0):\n",
    "    ans = ans + x\n",
    "    itersLeft = itersLeft - 1\n",
    "print str(x) + '*' + str(x) + ' = ' + str(ans) "
   ]
  },
  {
   "cell_type": "markdown",
   "metadata": {},
   "source": [
    "#### 반복문 내의 반복문"
   ]
  },
  {
   "cell_type": "code",
   "execution_count": 5,
   "metadata": {
    "collapsed": false
   },
   "outputs": [
    {
     "name": "stdout",
     "output_type": "stream",
     "text": [
      "12\n"
     ]
    }
   ],
   "source": [
    "x = 3\n",
    "counter = 0\n",
    "while x>0:\n",
    "    y = 4\n",
    "    x -= 1\n",
    "    while y>0:\n",
    "        counter += 1\n",
    "        y -= 1\n",
    "print counter"
   ]
  },
  {
   "cell_type": "markdown",
   "metadata": {},
   "source": [
    "#### break를 통한 while 벗어나기\n",
    "\n",
    "break를 이용하면 현재의 loop를 벗어날 수 있음\n",
    "* 일반적으로 if와 함께 사용되며 if의 조건이 True이면 현재 loop 종료"
   ]
  },
  {
   "cell_type": "code",
   "execution_count": 6,
   "metadata": {
    "collapsed": false
   },
   "outputs": [
    {
     "name": "stdout",
     "output_type": "stream",
     "text": [
      "10\n"
     ]
    }
   ],
   "source": [
    "count = 0\n",
    "while True:\n",
    "    count += 1\n",
    "    if count >= 10:\n",
    "        break\n",
    "print count"
   ]
  },
  {
   "cell_type": "markdown",
   "metadata": {},
   "source": [
    "#### while문을 통해 여러 번 입력 받기\n",
    "\n",
    "숫자를 다섯 개 입력 받아 총 합을 출력"
   ]
  },
  {
   "cell_type": "code",
   "execution_count": 7,
   "metadata": {
    "collapsed": false
   },
   "outputs": [
    {
     "name": "stdout",
     "output_type": "stream",
     "text": [
      "Input any number : 1\n",
      "Input any number : 4\n",
      "Input any number : 5\n",
      "Input any number : 7\n",
      "Input any number : 3\n",
      "20.0\n"
     ]
    }
   ],
   "source": [
    "counter = 5\n",
    "summation = 0\n",
    "while counter > 0:\n",
    "    num = raw_input(\"Input any number : \") \n",
    "    summation += float(num)\n",
    "    counter -= 1\n",
    "print summation"
   ]
  },
  {
   "cell_type": "markdown",
   "metadata": {},
   "source": [
    "#### while/else\n",
    "\n",
    "Python에 있는 독특한 문법    \n",
    "while문의 반복 조건이 False일 경우 else문을 실행\n",
    "* while문에 아예 진입하지 않았거나 정상적으로 종료될 경우 else문 실행\n",
    "\n",
    "break를 통해 while문을 강제로 빠져나오면 else문은 실행되지 않음\n",
    "\n",
    "예제 : x의 값을 바꿔가며 실험해 보자."
   ]
  },
  {
   "cell_type": "code",
   "execution_count": 8,
   "metadata": {
    "collapsed": false
   },
   "outputs": [
    {
     "name": "stdout",
     "output_type": "stream",
     "text": [
      "x is a power of 2\n"
     ]
    }
   ],
   "source": [
    "x = 8\n",
    "while x%2 == 0:\n",
    "    x = x/2\n",
    "    if x == 1:\n",
    "        print \"x is a power of 2\"\n",
    "        break\n",
    "else:\n",
    "    print \"x is not a power of 2\""
   ]
  },
  {
   "cell_type": "markdown",
   "metadata": {},
   "source": [
    "#### 반복문의 일반적 형태\n",
    "\n",
    "반복문을 설계하여야 할 때 다음 사항들을 생각해 보자.\n",
    "* counter로 사용할 변수 설정\n",
    "* counter 변수를 반복문 바깥에서 초기화\n",
    "* 반복문이 언제 끝나야 하는지 결정하는 end-test 설정\n",
    "* 반복문 내에서 실행할 코드를 작성\n",
    "  * counter를 변화시키는 작업 포함\n",
    "* 반복문이 종료되었을 때 이를 무엇을 할지 결정"
   ]
  },
  {
   "cell_type": "markdown",
   "metadata": {},
   "source": [
    "#### 제곱근을 찾는 단순 반복문 프로그램\n",
    "\n",
    "다음의 프로그램은 x가 제곱수일 경우 정수인 제곱근을 찾아준다.\n",
    "* 단, 한 가지 잘못된 점이 있다. 찾아보자."
   ]
  },
  {
   "cell_type": "code",
   "execution_count": 9,
   "metadata": {
    "collapsed": false
   },
   "outputs": [
    {
     "name": "stdout",
     "output_type": "stream",
     "text": [
      "5\n"
     ]
    }
   ],
   "source": [
    "x = 16\n",
    "ans = 0\n",
    "while ans*ans <= x:\n",
    "    ans = ans + 1\n",
    "print ans"
   ]
  },
  {
   "cell_type": "markdown",
   "metadata": {},
   "source": [
    "다음은 제곱근을 찾는 단순 반복문 프로그램이다.\n",
    "* 왼쪽의 프로그램이 어떻게 작동하는지 생각해 보자.\n",
    "* 이 프로그램을 어떻게 하면 향상시킬 수 있는지 생각해 보자."
   ]
  },
  {
   "cell_type": "code",
   "execution_count": 10,
   "metadata": {
    "collapsed": false
   },
   "outputs": [
    {
     "name": "stdout",
     "output_type": "stream",
     "text": [
      "4.2426\n"
     ]
    }
   ],
   "source": [
    "x = 18\n",
    "ans = 0\n",
    "increment = 1\n",
    "while increment >= 0.0001:\n",
    "    ans += increment\n",
    "    if ans**2 == x:\n",
    "        break\n",
    "    elif ans**2>x:\n",
    "        ans -= increment\n",
    "        increment = increment/10.0\n",
    "print ans"
   ]
  },
  {
   "cell_type": "markdown",
   "metadata": {},
   "source": [
    "#### 약수를 찾는 프로그램\n",
    "\n",
    "다음은 약수를 찾는 프로그램이다. 어떻게 향상시킬 수 있을까?"
   ]
  },
  {
   "cell_type": "code",
   "execution_count": 11,
   "metadata": {
    "collapsed": false
   },
   "outputs": [
    {
     "name": "stdout",
     "output_type": "stream",
     "text": [
      "1\n",
      "2\n",
      "4\n",
      "5\n",
      "10\n",
      "20\n",
      "25\n",
      "50\n",
      "100\n"
     ]
    }
   ],
   "source": [
    "x = 100\n",
    "divisor = 1\n",
    "while divisor <= 100:\n",
    "    if x % divisor == 0:\n",
    "        print divisor\n",
    "    divisor += 1"
   ]
  },
  {
   "cell_type": "markdown",
   "metadata": {},
   "source": [
    "### for를 이용한 반복문"
   ]
  },
  {
   "cell_type": "code",
   "execution_count": 12,
   "metadata": {
    "collapsed": false
   },
   "outputs": [
    {
     "name": "stdout",
     "output_type": "stream",
     "text": [
      "1\n",
      "2\n",
      "3\n",
      "4\n"
     ]
    }
   ],
   "source": [
    "for x in [1,2,3,4]:\n",
    "    print x"
   ]
  },
  {
   "cell_type": "markdown",
   "metadata": {},
   "source": [
    "문법은 다음과 같음: \n",
    "\n",
    "for < variable > in < some collection >:  \n",
    "&nbsp;&nbsp;&nbsp;< something to do >\n",
    "\n",
    "조사할 특정 범위가 있다면 for문이 while문보다 간결히 이용될 여지가 많다."
   ]
  },
  {
   "cell_type": "code",
   "execution_count": 13,
   "metadata": {
    "collapsed": false
   },
   "outputs": [
    {
     "name": "stdout",
     "output_type": "stream",
     "text": [
      "p\n",
      "y\n",
      "t\n",
      "h\n",
      "o\n",
      "n\n"
     ]
    }
   ],
   "source": [
    "for character in \"python\":\n",
    "    print character"
   ]
  },
  {
   "cell_type": "code",
   "execution_count": 14,
   "metadata": {
    "collapsed": false
   },
   "outputs": [
    {
     "name": "stdout",
     "output_type": "stream",
     "text": [
      "0\n",
      "1\n",
      "2\n",
      "3\n",
      "4\n"
     ]
    }
   ],
   "source": [
    "for j in range(0,5):\n",
    "    print j"
   ]
  },
  {
   "cell_type": "markdown",
   "metadata": {},
   "source": [
    "다음의 range() 함수 사용 결과는 0 이상 5미만의 숫자 리스트를 나타낸다."
   ]
  },
  {
   "cell_type": "code",
   "execution_count": 15,
   "metadata": {
    "collapsed": false
   },
   "outputs": [
    {
     "data": {
      "text/plain": [
       "[0, 1, 2, 3, 4]"
      ]
     },
     "execution_count": 15,
     "metadata": {},
     "output_type": "execute_result"
    }
   ],
   "source": [
    "range(0,5)"
   ]
  },
  {
   "cell_type": "markdown",
   "metadata": {},
   "source": [
    "예제 : 단어의 순서를 거꾸로 만들어 출력하기"
   ]
  },
  {
   "cell_type": "code",
   "execution_count": 16,
   "metadata": {
    "collapsed": false
   },
   "outputs": [
    {
     "name": "stdout",
     "output_type": "stream",
     "text": [
      "edcba\n"
     ]
    }
   ],
   "source": [
    "string = \"abcde\"\n",
    "reversed_string = \"\"\n",
    "for s in string:\n",
    "    reversed_string  = s + reversed_string \n",
    "print reversed_string"
   ]
  },
  {
   "cell_type": "markdown",
   "metadata": {},
   "source": [
    "#### range()의 다양한 활용"
   ]
  },
  {
   "cell_type": "code",
   "execution_count": 17,
   "metadata": {
    "collapsed": false
   },
   "outputs": [
    {
     "data": {
      "text/plain": [
       "[2, 3, 4, 5]"
      ]
     },
     "execution_count": 17,
     "metadata": {},
     "output_type": "execute_result"
    }
   ],
   "source": [
    "range(2,6)"
   ]
  },
  {
   "cell_type": "code",
   "execution_count": 18,
   "metadata": {
    "collapsed": false
   },
   "outputs": [
    {
     "data": {
      "text/plain": [
       "[0, 1, 2, 3, 4, 5, 6, 7]"
      ]
     },
     "execution_count": 18,
     "metadata": {},
     "output_type": "execute_result"
    }
   ],
   "source": [
    "range(8)"
   ]
  },
  {
   "cell_type": "code",
   "execution_count": 19,
   "metadata": {
    "collapsed": false
   },
   "outputs": [
    {
     "data": {
      "text/plain": [
       "[4, 6, 8]"
      ]
     },
     "execution_count": 19,
     "metadata": {},
     "output_type": "execute_result"
    }
   ],
   "source": [
    "range(4,10,2)"
   ]
  },
  {
   "cell_type": "code",
   "execution_count": 20,
   "metadata": {
    "collapsed": false
   },
   "outputs": [
    {
     "data": {
      "text/plain": [
       "[0, -2, -4, -6]"
      ]
     },
     "execution_count": 20,
     "metadata": {},
     "output_type": "execute_result"
    }
   ],
   "source": [
    "range(0,-8,-2)"
   ]
  },
  {
   "cell_type": "markdown",
   "metadata": {},
   "source": [
    "예제\n",
    "\n",
    "다음의 코드는 약간의 수정이 필요하다."
   ]
  },
  {
   "cell_type": "code",
   "execution_count": 21,
   "metadata": {
    "collapsed": false,
    "scrolled": false
   },
   "outputs": [
    {
     "name": "stdout",
     "output_type": "stream",
     "text": [
      "10 equals 2 * 5\n",
      "11 is a prime number\n",
      "11 is a prime number\n",
      "11 is a prime number\n",
      "11 is a prime number\n",
      "11 is a prime number\n",
      "11 is a prime number\n",
      "11 is a prime number\n",
      "11 is a prime number\n",
      "11 is a prime number\n",
      "12 equals 2 * 6\n",
      "13 is a prime number\n",
      "13 is a prime number\n",
      "13 is a prime number\n",
      "13 is a prime number\n",
      "13 is a prime number\n",
      "13 is a prime number\n",
      "13 is a prime number\n",
      "13 is a prime number\n",
      "13 is a prime number\n",
      "13 is a prime number\n",
      "13 is a prime number\n",
      "14 equals 2 * 7\n",
      "15 is a prime number\n",
      "15 equals 3 * 5\n",
      "16 equals 2 * 8\n",
      "17 is a prime number\n",
      "17 is a prime number\n",
      "17 is a prime number\n",
      "17 is a prime number\n",
      "17 is a prime number\n",
      "17 is a prime number\n",
      "17 is a prime number\n",
      "17 is a prime number\n",
      "17 is a prime number\n",
      "17 is a prime number\n",
      "17 is a prime number\n",
      "17 is a prime number\n",
      "17 is a prime number\n",
      "17 is a prime number\n",
      "17 is a prime number\n",
      "18 equals 2 * 9\n",
      "19 is a prime number\n",
      "19 is a prime number\n",
      "19 is a prime number\n",
      "19 is a prime number\n",
      "19 is a prime number\n",
      "19 is a prime number\n",
      "19 is a prime number\n",
      "19 is a prime number\n",
      "19 is a prime number\n",
      "19 is a prime number\n",
      "19 is a prime number\n",
      "19 is a prime number\n",
      "19 is a prime number\n",
      "19 is a prime number\n",
      "19 is a prime number\n",
      "19 is a prime number\n",
      "19 is a prime number\n"
     ]
    }
   ],
   "source": [
    "for num in range(10, 20):  \n",
    "    for i in range(2, num): \n",
    "        if num%i == 0:      \n",
    "            j=num/i\n",
    "            print '%d equals %d * %d' % (num,i,j)\n",
    "            break\n",
    "        else:\n",
    "            print num, 'is a prime number'"
   ]
  }
 ],
 "metadata": {
  "kernelspec": {
   "display_name": "Python 2",
   "language": "python",
   "name": "python2"
  },
  "language_info": {
   "codemirror_mode": {
    "name": "ipython",
    "version": 2
   },
   "file_extension": ".py",
   "mimetype": "text/x-python",
   "name": "python",
   "nbconvert_exporter": "python",
   "pygments_lexer": "ipython2",
   "version": "2.7.13"
  }
 },
 "nbformat": 4,
 "nbformat_minor": 2
}

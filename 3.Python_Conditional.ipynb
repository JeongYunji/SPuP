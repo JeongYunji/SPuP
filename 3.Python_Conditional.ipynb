{
 "cells": [
  {
   "cell_type": "markdown",
   "metadata": {},
   "source": [
    "### Statement\n",
    "\n",
    "Python interpreter가 실행 가능한 문법에 옳은 문장들\n",
    "* 1 + 2\n",
    "* x = 7\n",
    "* print \"Hello\"\n",
    "* newstring = \"ABCD\".lower()\n",
    "* 조건문\n",
    "* 반복문\n",
    "\n",
    "\n",
    "### 조건문\n",
    "\n",
    "프로그래머가 명시한 if의 조건이 True인가 False인가에 따라 실행하는 문장(statement)이 달라지는 구문\n",
    "\n",
    "![alt tag](https://github.com/ksublee/SPuP/blob/master/figure/if.png?raw=true)\n",
    "그림 출처 : Introduction to Computation and Programming Using Python, John V. Guttag"
   ]
  },
  {
   "cell_type": "code",
   "execution_count": 2,
   "metadata": {},
   "outputs": [
    {
     "name": "stdout",
     "output_type": "stream",
     "text": [
      "Even\n"
     ]
    }
   ],
   "source": [
    "x=15\n",
    "if (x/2)*2 == x:\n",
    "    print('Even')\n",
    "else:\n",
    "    print('Odd')"
   ]
  },
  {
   "cell_type": "markdown",
   "metadata": {},
   "source": [
    "(x/2)*2 == x 의 연산결과가 True이면\n",
    "* print 'Even'을 실행\n",
    "False이면\n",
    "* print 'Odd'을 실행"
   ]
  },
  {
   "cell_type": "markdown",
   "metadata": {},
   "source": [
    "* if, else 문의 문법 구조\n",
    "\n",
    "if < some test >:  \n",
    "    < test 결과가 True일 경우 해야 할 일 >\n",
    "else:  \n",
    "    < test 결과가 False일 경우 해야 할 일>\n",
    "    \n",
    "* if문과 else의 마지막에 : 이 존재하는 것을 확인\n",
    "* 들여쓰기(indentation)를 해야 함\n",
    "\n",
    "* 코드가 간단할 경우, 줄을 바꿔 들여쓰기를 하지 않고, 다음과 같은 문법도 가능\n",
    "\n",
    "if < some test >: < test 결과가 True일 경우 해야 할 일 >  \n",
    "else: < test 결과가 False일 경우 해야 할 일 >"
   ]
  },
  {
   "cell_type": "code",
   "execution_count": 3,
   "metadata": {},
   "outputs": [
    {
     "name": "stdout",
     "output_type": "stream",
     "text": [
      "get drunk\n"
     ]
    }
   ],
   "source": [
    "my_age = 25\n",
    "if my_age >= 20: print(\"get drunk\")\n",
    "else: print(\"not this time\")"
   ]
  },
  {
   "cell_type": "markdown",
   "metadata": {},
   "source": [
    "* else 이 후의 내용이 필요 없을 경우 else는 생략 가능"
   ]
  },
  {
   "cell_type": "code",
   "execution_count": 4,
   "metadata": {},
   "outputs": [
    {
     "name": "stdout",
     "output_type": "stream",
     "text": [
      "take a shower\n",
      "do a laundry\n"
     ]
    }
   ],
   "source": [
    "my_status = 'dirty'\n",
    "if my_status == 'dirty':\n",
    "    print(\"take a shower\")\n",
    "    print(\"do a laundry\")"
   ]
  },
  {
   "cell_type": "code",
   "execution_count": 5,
   "metadata": {},
   "outputs": [],
   "source": [
    "my_status = 'clean'\n",
    "if my_status == 'dirty':\n",
    "    print(\"take a shower\")\n",
    "    print(\"do a laundry\")"
   ]
  },
  {
   "cell_type": "markdown",
   "metadata": {},
   "source": [
    "들여쓰기 - indentation\n",
    "* C/C++이나 JAVA와 같은 언어에서는 들여쓰기는 코드를 보기 좋게 만들기 위한 것일 뿐 필수적인 것은 아님\n",
    "* Python에서는 들여쓰기가 문법의 일부이므로 반드시 지키도록 한다.\n",
    "\n",
    "예제"
   ]
  },
  {
   "cell_type": "code",
   "execution_count": 6,
   "metadata": {},
   "outputs": [
    {
     "name": "stdout",
     "output_type": "stream",
     "text": [
      "if\n"
     ]
    }
   ],
   "source": [
    "if 3<4: print(\"if\")\n",
    "else: print(\"else\")"
   ]
  },
  {
   "cell_type": "code",
   "execution_count": 10,
   "metadata": {},
   "outputs": [
    {
     "name": "stdout",
     "output_type": "stream",
     "text": [
      "if\n"
     ]
    }
   ],
   "source": [
    "if \"3\"<\"4\": print(\"if\")\n",
    "else: print(\"else\")"
   ]
  },
  {
   "cell_type": "markdown",
   "metadata": {},
   "source": [
    "* 최소값을 찾는 다음의 코드가 옳게 작동하는지 살펴 보자."
   ]
  },
  {
   "cell_type": "code",
   "execution_count": 11,
   "metadata": {},
   "outputs": [
    {
     "name": "stdout",
     "output_type": "stream",
     "text": [
      "y is the least\n"
     ]
    }
   ],
   "source": [
    "x=10\n",
    "y=5\n",
    "z=2\n",
    "if x<y:\n",
    "    if x<z:\n",
    "        print(\"x is the least\")\n",
    "    else:\n",
    "        print(\"z is the least\")\n",
    "else: print(\"y is the least\")"
   ]
  },
  {
   "cell_type": "markdown",
   "metadata": {},
   "source": [
    "* elif을 통한 조건 추가 "
   ]
  },
  {
   "cell_type": "code",
   "execution_count": 12,
   "metadata": {},
   "outputs": [
    {
     "name": "stdout",
     "output_type": "stream",
     "text": [
      "z is the least\n"
     ]
    }
   ],
   "source": [
    "x=10\n",
    "y=5\n",
    "z=2\n",
    "if x<y and x<z: print(\"x is the least\")\n",
    "elif y<z: print(\"y is the least\")\n",
    "else: print(\"z is the least\")"
   ]
  },
  {
   "cell_type": "markdown",
   "metadata": {},
   "source": [
    "* if문에서 and 를 이용하여 두 조건을 동시에 넣은 것에 주의\n",
    "* if의 조건에 해당하지 않으면 (x가 최소값이 아니라면), 두 번째 조건이 elif 뒤에 명시되는 것을 확인"
   ]
  },
  {
   "cell_type": "markdown",
   "metadata": {},
   "source": [
    "예제"
   ]
  },
  {
   "cell_type": "code",
   "execution_count": 13,
   "metadata": {},
   "outputs": [
    {
     "name": "stdout",
     "output_type": "stream",
     "text": [
      "Divisible by 2 and not by 3\n"
     ]
    }
   ],
   "source": [
    "if x%2 == 0:\n",
    "    if x%3 == 0:\n",
    "        print('Divisible by 2 and 3')\n",
    "    else:\n",
    "        print('Divisible by 2 and not by 3')\n",
    "elif x%3 == 0:\n",
    "    print('Divisible by 3 and not by 2')"
   ]
  },
  {
   "cell_type": "markdown",
   "metadata": {},
   "source": [
    "#### Boolean 연산 : and, or, not"
   ]
  },
  {
   "cell_type": "code",
   "execution_count": 14,
   "metadata": {},
   "outputs": [
    {
     "data": {
      "text/plain": [
       "True"
      ]
     },
     "execution_count": 14,
     "metadata": {},
     "output_type": "execute_result"
    }
   ],
   "source": [
    "True and True"
   ]
  },
  {
   "cell_type": "code",
   "execution_count": 15,
   "metadata": {},
   "outputs": [
    {
     "data": {
      "text/plain": [
       "False"
      ]
     },
     "execution_count": 15,
     "metadata": {},
     "output_type": "execute_result"
    }
   ],
   "source": [
    "True and False"
   ]
  },
  {
   "cell_type": "code",
   "execution_count": 16,
   "metadata": {},
   "outputs": [
    {
     "data": {
      "text/plain": [
       "False"
      ]
     },
     "execution_count": 16,
     "metadata": {},
     "output_type": "execute_result"
    }
   ],
   "source": [
    "False and True"
   ]
  },
  {
   "cell_type": "code",
   "execution_count": 17,
   "metadata": {},
   "outputs": [
    {
     "data": {
      "text/plain": [
       "False"
      ]
     },
     "execution_count": 17,
     "metadata": {},
     "output_type": "execute_result"
    }
   ],
   "source": [
    "False and False"
   ]
  },
  {
   "cell_type": "code",
   "execution_count": 18,
   "metadata": {},
   "outputs": [
    {
     "data": {
      "text/plain": [
       "True"
      ]
     },
     "execution_count": 18,
     "metadata": {},
     "output_type": "execute_result"
    }
   ],
   "source": [
    "True or True"
   ]
  },
  {
   "cell_type": "code",
   "execution_count": 19,
   "metadata": {},
   "outputs": [
    {
     "data": {
      "text/plain": [
       "True"
      ]
     },
     "execution_count": 19,
     "metadata": {},
     "output_type": "execute_result"
    }
   ],
   "source": [
    "True or False"
   ]
  },
  {
   "cell_type": "code",
   "execution_count": 20,
   "metadata": {},
   "outputs": [
    {
     "data": {
      "text/plain": [
       "True"
      ]
     },
     "execution_count": 20,
     "metadata": {},
     "output_type": "execute_result"
    }
   ],
   "source": [
    "False or True"
   ]
  },
  {
   "cell_type": "code",
   "execution_count": 21,
   "metadata": {},
   "outputs": [
    {
     "data": {
      "text/plain": [
       "False"
      ]
     },
     "execution_count": 21,
     "metadata": {},
     "output_type": "execute_result"
    }
   ],
   "source": [
    "False or False"
   ]
  },
  {
   "cell_type": "code",
   "execution_count": 22,
   "metadata": {},
   "outputs": [
    {
     "data": {
      "text/plain": [
       "False"
      ]
     },
     "execution_count": 22,
     "metadata": {},
     "output_type": "execute_result"
    }
   ],
   "source": [
    "not True"
   ]
  },
  {
   "cell_type": "code",
   "execution_count": 23,
   "metadata": {},
   "outputs": [
    {
     "data": {
      "text/plain": [
       "True"
      ]
     },
     "execution_count": 23,
     "metadata": {},
     "output_type": "execute_result"
    }
   ],
   "source": [
    "not False"
   ]
  },
  {
   "cell_type": "markdown",
   "metadata": {},
   "source": [
    "예제"
   ]
  },
  {
   "cell_type": "code",
   "execution_count": 24,
   "metadata": {},
   "outputs": [
    {
     "name": "stdout",
     "output_type": "stream",
     "text": [
      "else\n"
     ]
    }
   ],
   "source": [
    "x=3\n",
    "y=7\n",
    "if x<y and x<0: print(\"if\")\n",
    "else: print(\"else\")"
   ]
  },
  {
   "cell_type": "code",
   "execution_count": 26,
   "metadata": {},
   "outputs": [
    {
     "name": "stdout",
     "output_type": "stream",
     "text": [
      "if\n"
     ]
    }
   ],
   "source": [
    "x=3\n",
    "y=7\n",
    "if x<y or x<0: print(\"if\")\n",
    "else: print(\"else\")"
   ]
  },
  {
   "cell_type": "markdown",
   "metadata": {},
   "source": [
    "### 연습문제\n",
    "\n",
    "* 정수를 입력받아 홀수(odd)인지 짝수(even)인지 판별하는 프로그램을 작성하라."
   ]
  },
  {
   "cell_type": "markdown",
   "metadata": {},
   "source": [
    "* 월(month)을 입력받으면 해당 월이 며칠인지 출력하는 프로그램을 작성하라."
   ]
  },
  {
   "cell_type": "markdown",
   "metadata": {},
   "source": [
    " * x, y, z의 세 개의 변수가 있다. 이 세 변수를 검사하여 가장 큰 홀수를 프린트하라. 만약 세 변수가 모두 홀수가 아니라면, 홀수가 없다는 메시지를 출력하라."
   ]
  },
  {
   "cell_type": "markdown",
   "metadata": {},
   "source": [
    " * 킬로미터를 미터로, 미터를 킬로미터로 변환하는 프로그램을 작성하라. 예를 들어 1500m을 입력하면, 1.5km을 출력하고, 2.3km을 입력하면 2300m를 출력하게 하라."
   ]
  },
  {
   "cell_type": "markdown",
   "metadata": {},
   "source": [
    " * 세 변의 길이를 입력하였을 때, 정삼각형(Equilateral triangle), 이등변삼각형(Isosceles triangle), 일반삼각형(triangle)을 구분하는 프로그램을 작성하라."
   ]
  },
  {
   "cell_type": "markdown",
   "metadata": {},
   "source": [
    "* 입력받은 13자리 숫자가 ISBN 13자리 코드의 원칙에 맞는지 판단하는 프로그램을 작성하라.\n",
    "  * ISBN코드가 abcdefghijklm일 때, $a+3b+c+3d+e+3f+g+3h+i+3j+k+3l+m$이 10으로 나누어 떨어져야 한다."
   ]
  },
  {
   "cell_type": "markdown",
   "metadata": {},
   "source": [
    "* 입력한 해가 윤년인지를 판단하는 프로그램을 작성하라. 윤년의 규칙은 다음과 같다.\n",
    "  * 서력 기원 연수가 4로 나누어 떨어지는 해는 윤년으로 한다.(1988년, 1992년, 1996년, 2004년, 2008년, 2012년 …)\n",
    "  * 이 중에서 100으로 나누어 떨어지는 해는 평년으로 한다.(1900년, 2100년, 2200년, 2300년, 2500년 …)\n",
    "  * 그중에 400으로 나누어 떨어지는 해는 윤년으로 둔다."
   ]
  },
  {
   "cell_type": "markdown",
   "metadata": {},
   "source": [
    "* 문자열을 입력받아 소문자는 대문자로, 대문자는 소문자로 바꾸어 주는 프로그램을 작성하라.\n",
    "  * aBcD 입력 시 -> AbCd"
   ]
  },
  {
   "cell_type": "markdown",
   "metadata": {},
   "source": [
    "* 삼각형 세 변의 길이를 입력받아, 직각 삼각형인지 아닌지 판단하는 프로그램을 작성하라."
   ]
  },
  {
   "cell_type": "code",
   "execution_count": null,
   "metadata": {},
   "outputs": [],
   "source": []
  }
 ],
 "metadata": {
  "kernelspec": {
   "display_name": "Python 3",
   "language": "python",
   "name": "python3"
  },
  "language_info": {
   "codemirror_mode": {
    "name": "ipython",
    "version": 3
   },
   "file_extension": ".py",
   "mimetype": "text/x-python",
   "name": "python",
   "nbconvert_exporter": "python",
   "pygments_lexer": "ipython3",
   "version": "3.6.4"
  }
 },
 "nbformat": 4,
 "nbformat_minor": 2
}

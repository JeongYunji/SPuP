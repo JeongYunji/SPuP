{
 "cells": [
  {
   "cell_type": "markdown",
   "metadata": {},
   "source": [
    "### Python 프로그램\n",
    "\n",
    "* 일련의 정의와 명령문으로 구성\n",
    "\n",
    "* 스크립트(script)라고도 불림\n",
    "\n",
    "command 혹은 statement라고 불리는 문장들이 Python 인터프리터가 무언가를 하도록 지시한다.\n",
    "\n",
    "다음은 print 문장을 이용한 간단한 프로그램이다.\n",
    "\n",
    "In [1]: 의 오른쪽의 내용이 우리가 처음 작성하는 프로그램의 내용이며 그 다음 줄의 내용이 프로그램의 실행 결과이다."
   ]
  },
  {
   "cell_type": "code",
   "execution_count": 1,
   "metadata": {
    "collapsed": false
   },
   "outputs": [
    {
     "name": "stdout",
     "output_type": "stream",
     "text": [
      "This is my first Python program.\n"
     ]
    }
   ],
   "source": [
    "print 'This is my first Python program.'"
   ]
  },
  {
   "cell_type": "markdown",
   "metadata": {},
   "source": [
    "만약 Spyder를 이용 중이라면, Spyder 오른쪽 하단의 IPython Console을 이용하여 위의 문장을 실행시켜 보자.\n",
    "\n",
    "![title](figure/console.png)"
   ]
  },
  {
   "cell_type": "markdown",
   "metadata": {},
   "source": [
    "### 데이터 타입\n",
    "\n",
    "프로그래밍에 사용되는 데이터들은 타입을 구분한다.\n",
    "\n",
    "Python에는 크게 세 가지 데이터 타입이 존재\n",
    "* 숫자형\n",
    "  * 5, 10.3, -2, -1.02\n",
    "  * 사칙연산 등을 수행할 수 있음\n",
    "* 문자열\n",
    "  * \"apple\", \"Hello, world!\", 'Yeungnam University', \"15\"\n",
    "  * 큰 따옴표나 작은 따옴표로 표현\n",
    "* 부울(Bool)\n",
    "  * True, False\n"
   ]
  },
  {
   "cell_type": "markdown",
   "metadata": {},
   "source": [
    "### 수치와 연산\n",
    "\n",
    "* 숫자형 데이터에 적용되는 연산\n",
    "* 사칙연산\n"
   ]
  },
  {
   "cell_type": "code",
   "execution_count": 3,
   "metadata": {
    "collapsed": false
   },
   "outputs": [
    {
     "data": {
      "text/plain": [
       "7"
      ]
     },
     "execution_count": 3,
     "metadata": {},
     "output_type": "execute_result"
    }
   ],
   "source": [
    "3+4"
   ]
  },
  {
   "cell_type": "code",
   "execution_count": 4,
   "metadata": {
    "collapsed": false
   },
   "outputs": [
    {
     "data": {
      "text/plain": [
       "-1"
      ]
     },
     "execution_count": 4,
     "metadata": {},
     "output_type": "execute_result"
    }
   ],
   "source": [
    "3-4"
   ]
  },
  {
   "cell_type": "code",
   "execution_count": 5,
   "metadata": {
    "collapsed": false
   },
   "outputs": [
    {
     "data": {
      "text/plain": [
       "12"
      ]
     },
     "execution_count": 5,
     "metadata": {},
     "output_type": "execute_result"
    }
   ],
   "source": [
    "3*4"
   ]
  },
  {
   "cell_type": "markdown",
   "metadata": {},
   "source": [
    "Python 2.x에서는 다음 정수끼리 나누기 연산의 결과는 정수로 나타난다. 소수점 아래의 숫자는 버린다."
   ]
  },
  {
   "cell_type": "code",
   "execution_count": 6,
   "metadata": {
    "collapsed": false
   },
   "outputs": [
    {
     "data": {
      "text/plain": [
       "0"
      ]
     },
     "execution_count": 6,
     "metadata": {},
     "output_type": "execute_result"
    }
   ],
   "source": [
    "3/4"
   ]
  },
  {
   "cell_type": "markdown",
   "metadata": {},
   "source": [
    "나누기를 통하여 실수 결과를 얻고자 할 때:"
   ]
  },
  {
   "cell_type": "code",
   "execution_count": 8,
   "metadata": {
    "collapsed": false
   },
   "outputs": [
    {
     "data": {
      "text/plain": [
       "0.75"
      ]
     },
     "execution_count": 8,
     "metadata": {},
     "output_type": "execute_result"
    }
   ],
   "source": [
    "3/4.0"
   ]
  },
  {
   "cell_type": "markdown",
   "metadata": {},
   "source": [
    "혹은,"
   ]
  },
  {
   "cell_type": "code",
   "execution_count": 9,
   "metadata": {
    "collapsed": false
   },
   "outputs": [
    {
     "data": {
      "text/plain": [
       "0.75"
      ]
     },
     "execution_count": 9,
     "metadata": {},
     "output_type": "execute_result"
    }
   ],
   "source": [
    "3.0/4"
   ]
  },
  {
   "cell_type": "markdown",
   "metadata": {},
   "source": [
    "다음은 나머지 연산을 수행한다."
   ]
  },
  {
   "cell_type": "code",
   "execution_count": 10,
   "metadata": {
    "collapsed": false
   },
   "outputs": [
    {
     "data": {
      "text/plain": [
       "1"
      ]
     },
     "execution_count": 10,
     "metadata": {},
     "output_type": "execute_result"
    }
   ],
   "source": [
    "5%2"
   ]
  },
  {
   "cell_type": "markdown",
   "metadata": {},
   "source": [
    "제곱이나 거듭제곱은 **를 이용한다."
   ]
  },
  {
   "cell_type": "code",
   "execution_count": 11,
   "metadata": {
    "collapsed": false
   },
   "outputs": [
    {
     "data": {
      "text/plain": [
       "25"
      ]
     },
     "execution_count": 11,
     "metadata": {},
     "output_type": "execute_result"
    }
   ],
   "source": [
    "5**2"
   ]
  },
  {
   "cell_type": "code",
   "execution_count": 12,
   "metadata": {
    "collapsed": false
   },
   "outputs": [
    {
     "data": {
      "text/plain": [
       "8"
      ]
     },
     "execution_count": 12,
     "metadata": {},
     "output_type": "execute_result"
    }
   ],
   "source": [
    "2**3"
   ]
  },
  {
   "cell_type": "markdown",
   "metadata": {},
   "source": [
    "복잡한 연산의 순서는 기본적인 수학 규칙을 따른다."
   ]
  },
  {
   "cell_type": "code",
   "execution_count": 13,
   "metadata": {
    "collapsed": false
   },
   "outputs": [
    {
     "data": {
      "text/plain": [
       "6"
      ]
     },
     "execution_count": 13,
     "metadata": {},
     "output_type": "execute_result"
    }
   ],
   "source": [
    "2+2*2"
   ]
  },
  {
   "cell_type": "markdown",
   "metadata": {
    "collapsed": true
   },
   "source": [
    "### 변수\n",
    "\n",
    "수학에서 x=10과 같이 변수와 그 값을 지정하듯이 Python에서도 등호(=)를 이용하여 변수의 값을 지정한다.\n",
    "\n",
    "* 정수형 변수 지정"
   ]
  },
  {
   "cell_type": "code",
   "execution_count": 1,
   "metadata": {
    "collapsed": true
   },
   "outputs": [],
   "source": [
    "my_integer = 10"
   ]
  },
  {
   "cell_type": "markdown",
   "metadata": {},
   "source": [
    "* 실수형 변수 지정"
   ]
  },
  {
   "cell_type": "code",
   "execution_count": 2,
   "metadata": {
    "collapsed": true
   },
   "outputs": [],
   "source": [
    "my_number = 5.2"
   ]
  },
  {
   "cell_type": "markdown",
   "metadata": {},
   "source": [
    "* 문자열 변수 지정"
   ]
  },
  {
   "cell_type": "code",
   "execution_count": 3,
   "metadata": {
    "collapsed": true
   },
   "outputs": [],
   "source": [
    "my_string = \"Statistics\""
   ]
  },
  {
   "cell_type": "markdown",
   "metadata": {},
   "source": [
    "* 부울형 변수 지정"
   ]
  },
  {
   "cell_type": "code",
   "execution_count": 4,
   "metadata": {
    "collapsed": true
   },
   "outputs": [],
   "source": [
    "my_bool = True"
   ]
  },
  {
   "cell_type": "markdown",
   "metadata": {},
   "source": [
    "만약 Spyder를 이용 중이라면 Variable explorer를 이용하여 입력한 변수의 내용을 확인할 수 있다."
   ]
  },
  {
   "cell_type": "markdown",
   "metadata": {},
   "source": [
    "![title](figure/variable.png)"
   ]
  },
  {
   "cell_type": "markdown",
   "metadata": {},
   "source": [
    "### 변수명 규칙\n",
    "\n",
    "* Python 변수명은 문자나 _로 시작\n",
    "  * _the_string\n",
    "  * my_variable\n",
    "* 첫 글자가 아닌 나머지 부분은 문자, 숫자, _가 올 수 있음\n",
    "  * password1\n",
    "  * n00b\n",
    "  * un_der_score\n",
    "* 대소문자 구별 : X와 x는 서로 다른 변수\n",
    "\n",
    "* 변수명을 짓는 방법\n",
    " * 알아보기 쉽게 짓는다.\n",
    "   * apartmentname -> apartment_name 혹은 apartmentName\n",
    " * 무슨 변수를 나타내는지 알아보도록 짓는다.\n",
    "   * afmowpv : 아무 의미 없어 보이며 이렇게 짓지 않음\n",
    "   * average_num_students : 학생 수의 평균을 의미하는 것을 알 수 있음\n"
   ]
  },
  {
   "cell_type": "markdown",
   "metadata": {},
   "source": [
    "### 변수 지정에 있어 Python의 특징\n",
    "\n",
    "* 많은 다른 프로그래밍 언어의 경우 변수형을 따로 명시해 주어야 함. 예를 들어,\n",
    "  * int n = 10\n",
    "    * 정수(integer)형 변수\n",
    "  * double x = 2.12\n",
    "    * double precision을 가지는 실수형 변수\n",
    "  * char c = 'a'\n",
    "    * 문자(character)형 변수\n",
    "\n",
    "* Python은 int, double, char 등과 같은 변수형에 대한 keyword를 따로 지정해 주지 않음\n"
   ]
  },
  {
   "cell_type": "markdown",
   "metadata": {},
   "source": [
    "### Dynamic types\n",
    "\n",
    "* Python에서는 데이터 type을 따로 명시하는 것이 아니기 때문에, 프로그램 중간에 데이터 type이 바뀔 수 있음\n",
    "  * x = 10  \n",
    "    …  \n",
    "    x = 'John'  \n",
    "    …  \n",
    "    x = True\n",
    "    \n",
    "    \n",
    "* 그러나, 하나의 변수가 한 프로그램 내에서 데이터 타입이 변하는 것은 바람직하지 않으며, 동일한 데이터 타입을 유지하도록 함\n",
    "* 반면 변수의 값은 계속 변할 수 있음\n"
   ]
  },
  {
   "cell_type": "markdown",
   "metadata": {},
   "source": [
    "### 변수 재지정\n",
    "\n",
    "한 번 지정한 변수값을 얼마든지 새 변수로 바꿀 수 있음 \n"
   ]
  },
  {
   "cell_type": "code",
   "execution_count": 5,
   "metadata": {
    "collapsed": true
   },
   "outputs": [],
   "source": [
    "a = 1\n",
    "a = 2\n",
    "a = 2.1\n",
    "b = \"Hi\"\n",
    "b = \"Hello\"\n",
    "c = True\n",
    "c = False "
   ]
  },
  {
   "cell_type": "markdown",
   "metadata": {},
   "source": [
    "다음의 예제에서는 radius의 값이 계산 결과에 따라 바뀌는 모양을 나타내고 있다."
   ]
  },
  {
   "cell_type": "code",
   "execution_count": 8,
   "metadata": {
    "collapsed": true
   },
   "outputs": [],
   "source": [
    "pi = 3\n",
    "radius = 11\n",
    "area = pi * (radius**2)\n",
    "radius = 14"
   ]
  },
  {
   "cell_type": "markdown",
   "metadata": {},
   "source": [
    "![title](figure/pi.png)\n",
    "\n",
    "그림 출처 : Introduction to Computation and Programming Using Python, John V. Guttag"
   ]
  },
  {
   "cell_type": "markdown",
   "metadata": {
    "collapsed": true
   },
   "source": [
    "### multiple assignment\n",
    "\n",
    "Python에서는 다음과 같이 여러 개의 변수에 한 번에 값들을 지정할 수 있다."
   ]
  },
  {
   "cell_type": "code",
   "execution_count": 1,
   "metadata": {
    "collapsed": false
   },
   "outputs": [
    {
     "name": "stdout",
     "output_type": "stream",
     "text": [
      "x =  3\n",
      "y =  2\n"
     ]
    }
   ],
   "source": [
    "x, y = 2, 3\n",
    "x, y = y, x\n",
    "print 'x = ', x\n",
    "print 'y = ', y"
   ]
  },
  {
   "cell_type": "markdown",
   "metadata": {},
   "source": [
    "### 문자열 출력해보기\n",
    "\n",
    "프로그래밍의 가장 기본 예제를 연습해 보자."
   ]
  },
  {
   "cell_type": "code",
   "execution_count": null,
   "metadata": {
    "collapsed": true
   },
   "outputs": [],
   "source": []
  }
 ],
 "metadata": {
  "kernelspec": {
   "display_name": "Python 2",
   "language": "python",
   "name": "python2"
  },
  "language_info": {
   "codemirror_mode": {
    "name": "ipython",
    "version": 2
   },
   "file_extension": ".py",
   "mimetype": "text/x-python",
   "name": "python",
   "nbconvert_exporter": "python",
   "pygments_lexer": "ipython2",
   "version": "2.7.13"
  }
 },
 "nbformat": 4,
 "nbformat_minor": 0
}

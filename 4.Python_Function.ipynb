{
 "cells": [
  {
   "cell_type": "markdown",
   "metadata": {},
   "source": [
    "### 함수 - function\n",
    "\n",
    "* 문자열 등을 다루면서 함수를 사용한 경험을 상기해 보자.\n",
    "  * len(\"Python programming\")\n",
    "\n",
    "* 필요에 따라 함수를 생성하여 원하는 기능을 따로 분리하여 사용하는 법을 익혀보자.\n",
    "  * Decomposition and abstraction\n",
    "\n",
    "* Python에서 제공하는 함수가 아니라 새로운 함수를 만들기 위해서는 다음의 문법을 따른다.\n",
    "\n",
    "def function_name(< argument >):   \n",
    "&nbsp;&nbsp;&nbsp;&nbsp;&nbsp;< something to do >\n",
    "\n",
    "### 함수 예제\n",
    "\n",
    "* 제곱 후 1을 더해서 반환하는 함수"
   ]
  },
  {
   "cell_type": "code",
   "execution_count": 1,
   "metadata": {
    "collapsed": true
   },
   "outputs": [],
   "source": [
    "def square_plus_one(x):\n",
    "    ans = x**2 + 1\n",
    "    return ans"
   ]
  },
  {
   "cell_type": "markdown",
   "metadata": {},
   "source": [
    " * x라는 인자(argument)를 받아서 \n",
    " * x**2 + 1 의 계산을 수행한 후 \n",
    " * 결과를 ans에 대입하여 반환(return)하고 있음\n",
    "\n",
    " * 콘솔이나 에디터에서 square_plus_one(10) 등을 수행해 보자."
   ]
  },
  {
   "cell_type": "code",
   "execution_count": 2,
   "metadata": {
    "collapsed": false
   },
   "outputs": [
    {
     "data": {
      "text/plain": [
       "101"
      ]
     },
     "execution_count": 2,
     "metadata": {},
     "output_type": "execute_result"
    }
   ],
   "source": [
    "square_plus_one(10)"
   ]
  },
  {
   "cell_type": "markdown",
   "metadata": {},
   "source": [
    "### 함수 예제(2)\n",
    "\n",
    " * 제곱근 반환 함수"
   ]
  },
  {
   "cell_type": "code",
   "execution_count": 3,
   "metadata": {
    "collapsed": true
   },
   "outputs": [],
   "source": [
    "def my_sqrt(x):\n",
    "    ans = 0\n",
    "    increment = 1\n",
    "    while increment >= 0.0001:\n",
    "          ans += increment\n",
    "          if ans**2 == x:\n",
    "                break\n",
    "          elif ans**2>x:\n",
    "                  ans -= increment\n",
    "                  increment = increment/10.0\n",
    "    return ans"
   ]
  },
  {
   "cell_type": "markdown",
   "metadata": {},
   "source": [
    "### 함수 사용\n",
    "\n",
    "* 함수를 정의하였으면 이를 스크립트 내에서 활용할 수 있음"
   ]
  },
  {
   "cell_type": "code",
   "execution_count": 4,
   "metadata": {
    "collapsed": false
   },
   "outputs": [
    {
     "name": "stdout",
     "output_type": "stream",
     "text": [
      "1.4142\n"
     ]
    }
   ],
   "source": [
    "print my_sqrt(2) "
   ]
  },
  {
   "cell_type": "code",
   "execution_count": 5,
   "metadata": {
    "collapsed": false
   },
   "outputs": [
    {
     "name": "stdout",
     "output_type": "stream",
     "text": [
      "4\n"
     ]
    }
   ],
   "source": [
    "y = 16 \n",
    "print my_sqrt(y)"
   ]
  },
  {
   "cell_type": "code",
   "execution_count": 6,
   "metadata": {
    "collapsed": false
   },
   "outputs": [
    {
     "name": "stdout",
     "output_type": "stream",
     "text": [
      "12\n"
     ]
    }
   ],
   "source": [
    "z = 12 \n",
    "print my_sqrt(z*12)"
   ]
  },
  {
   "cell_type": "code",
   "execution_count": 7,
   "metadata": {
    "collapsed": false
   },
   "outputs": [
    {
     "name": "stdout",
     "output_type": "stream",
     "text": [
      "100\n"
     ]
    }
   ],
   "source": [
    "x = my_sqrt(100) \n",
    "print x*x"
   ]
  },
  {
   "cell_type": "markdown",
   "metadata": {},
   "source": [
    "### 인자를 받지 않는 함수\n",
    "\n",
    "* 함수는 아무런 인자를 받지 않을 수 있음"
   ]
  },
  {
   "cell_type": "code",
   "execution_count": 8,
   "metadata": {
    "collapsed": true
   },
   "outputs": [],
   "source": [
    "def print_something():\n",
    "    print \"This function does nothing.\""
   ]
  },
  {
   "cell_type": "markdown",
   "metadata": {},
   "source": [
    "* 위 함수는 아무런 인자를 받지 않을 뿐만 아니라, 아무런 반환값도 없음\n",
    "\n",
    " * print_something() 함수를 실행해 보자. "
   ]
  },
  {
   "cell_type": "code",
   "execution_count": 9,
   "metadata": {
    "collapsed": false
   },
   "outputs": [
    {
     "ename": "SyntaxError",
     "evalue": "invalid syntax (<ipython-input-9-ce904deec868>, line 1)",
     "output_type": "error",
     "traceback": [
      "\u001b[0;36m  File \u001b[0;32m\"<ipython-input-9-ce904deec868>\"\u001b[0;36m, line \u001b[0;32m1\u001b[0m\n\u001b[0;31m    print_something():\u001b[0m\n\u001b[0m                     ^\u001b[0m\n\u001b[0;31mSyntaxError\u001b[0m\u001b[0;31m:\u001b[0m invalid syntax\n"
     ]
    }
   ],
   "source": [
    "print_something():"
   ]
  },
  {
   "cell_type": "code",
   "execution_count": 10,
   "metadata": {
    "collapsed": true
   },
   "outputs": [],
   "source": [
    "### 여러 개의 인자를 받는 함수"
   ]
  },
  {
   "cell_type": "code",
   "execution_count": 11,
   "metadata": {
    "collapsed": false
   },
   "outputs": [],
   "source": [
    "def my_max(x, y):\n",
    "    if x >= y:\n",
    "          return x\n",
    "    else:\n",
    "          return y"
   ]
  },
  {
   "cell_type": "code",
   "execution_count": 12,
   "metadata": {
    "collapsed": false
   },
   "outputs": [
    {
     "data": {
      "text/plain": [
       "12"
      ]
     },
     "execution_count": 12,
     "metadata": {},
     "output_type": "execute_result"
    }
   ],
   "source": [
    "my_max(10,12)"
   ]
  },
  {
   "cell_type": "markdown",
   "metadata": {},
   "source": [
    "### 여러 개의 인자를 받는 함수(2)\n",
    "\n",
    "* 최대공약수를 구하는 함수"
   ]
  },
  {
   "cell_type": "code",
   "execution_count": 13,
   "metadata": {
    "collapsed": false
   },
   "outputs": [],
   "source": [
    "def my_GCD(x, y):\n",
    "     j = 1\n",
    "     ans = 1\n",
    "     while j <= x and j <= y:\n",
    "           if x%j == 0 and y%j == 0:\n",
    "                 ans = j\n",
    "           j += 1\n",
    "     return ans"
   ]
  },
  {
   "cell_type": "code",
   "execution_count": 14,
   "metadata": {
    "collapsed": false
   },
   "outputs": [
    {
     "data": {
      "text/plain": [
       "12"
      ]
     },
     "execution_count": 14,
     "metadata": {},
     "output_type": "execute_result"
    }
   ],
   "source": [
    "my_GCD(24, 84)"
   ]
  },
  {
   "cell_type": "markdown",
   "metadata": {},
   "source": [
    "### 예제"
   ]
  },
  {
   "cell_type": "code",
   "execution_count": 15,
   "metadata": {
    "collapsed": true
   },
   "outputs": [],
   "source": [
    "def printName(firstName, lastName, reverse):\n",
    "    if reverse:\n",
    "          print lastName + ', ' + firstName\n",
    "    else:\n",
    "          print firstName, lastName"
   ]
  },
  {
   "cell_type": "markdown",
   "metadata": {},
   "source": [
    "* 다음은 동치"
   ]
  },
  {
   "cell_type": "code",
   "execution_count": 16,
   "metadata": {
    "collapsed": false
   },
   "outputs": [
    {
     "name": "stdout",
     "output_type": "stream",
     "text": [
      "Kyungsub Lee\n",
      "Kyungsub Lee\n",
      "Kyungsub Lee\n"
     ]
    }
   ],
   "source": [
    "printName('Kyungsub', 'Lee', False)\n",
    "printName('Kyungsub', 'Lee', reverse=False)\n",
    "printName(lastName='Lee', firstName='Kyungsub', reverse=False)"
   ]
  },
  {
   "cell_type": "markdown",
   "metadata": {},
   "source": [
    "### default parameter\n",
    "\n",
    "* 함수 생성 시 다음과 같이 default parameter를 설정할 수 있다."
   ]
  },
  {
   "cell_type": "code",
   "execution_count": 17,
   "metadata": {
    "collapsed": false
   },
   "outputs": [
    {
     "name": "stdout",
     "output_type": "stream",
     "text": [
      "Kyungsub Lee\n"
     ]
    }
   ],
   "source": [
    "def printName(firstName, lastName, reverse = False):\n",
    "    if reverse:\n",
    "         print lastName + ', ' + firstName\n",
    "    else:\n",
    "         print firstName, lastName\n",
    "            \n",
    "printName('Kyungsub', 'Lee')"
   ]
  },
  {
   "cell_type": "markdown",
   "metadata": {},
   "source": [
    "### 지역 변수(local variable)\n",
    "\n",
    "* 함수 내의 변수는 함수 내에서만 존재하는 변수"
   ]
  },
  {
   "cell_type": "code",
   "execution_count": 18,
   "metadata": {
    "collapsed": false
   },
   "outputs": [
    {
     "name": "stdout",
     "output_type": "stream",
     "text": [
      "10\n"
     ]
    }
   ],
   "source": [
    "def my_func():\n",
    "    x = 20\n",
    "    \n",
    "x = 10\n",
    "my_func()\n",
    "print x"
   ]
  },
  {
   "cell_type": "markdown",
   "metadata": {},
   "source": [
    "* 함수 내의 지역 변수와 함수 바깥의 전역 변수(global variable)이 분리되어 있음을 주의"
   ]
  },
  {
   "cell_type": "code",
   "execution_count": 19,
   "metadata": {
    "collapsed": false
   },
   "outputs": [
    {
     "name": "stdout",
     "output_type": "stream",
     "text": [
      "1\n"
     ]
    }
   ],
   "source": [
    "def increase(x):\n",
    "    x = x + 1\n",
    "    \n",
    "x=1\n",
    "increase(x)\n",
    "print x"
   ]
  },
  {
   "cell_type": "code",
   "execution_count": 20,
   "metadata": {
    "collapsed": false
   },
   "outputs": [
    {
     "name": "stdout",
     "output_type": "stream",
     "text": [
      "10\n"
     ]
    }
   ],
   "source": [
    "def my_func():\n",
    "    x = 20\n",
    "    \n",
    "x = 10\n",
    "my_func()\n",
    "print x"
   ]
  },
  {
   "cell_type": "code",
   "execution_count": 21,
   "metadata": {
    "collapsed": false
   },
   "outputs": [
    {
     "name": "stdout",
     "output_type": "stream",
     "text": [
      "1\n"
     ]
    }
   ],
   "source": [
    "def increase(x):\n",
    "    x = x + 1\n",
    "    \n",
    "x = 1\n",
    "increase(x)\n",
    "print x"
   ]
  },
  {
   "cell_type": "code",
   "execution_count": 22,
   "metadata": {
    "collapsed": false
   },
   "outputs": [
    {
     "name": "stdout",
     "output_type": "stream",
     "text": [
      "20\n"
     ]
    }
   ],
   "source": [
    "def my_func():\n",
    "    x = 20\n",
    "    return x\n",
    "\n",
    "x = 10\n",
    "x = my_func()\n",
    "print x\n"
   ]
  },
  {
   "cell_type": "code",
   "execution_count": 23,
   "metadata": {
    "collapsed": false
   },
   "outputs": [
    {
     "name": "stdout",
     "output_type": "stream",
     "text": [
      "2\n"
     ]
    }
   ],
   "source": [
    "def increase(x):\n",
    "    x = x + 1\n",
    "    return x\n",
    "\n",
    "x = 1\n",
    "x = increase(x)\n",
    "print x\n"
   ]
  },
  {
   "cell_type": "markdown",
   "metadata": {},
   "source": [
    "### 농장 문제\n",
    "\n",
    "* 농장에 돼지들과 닭들이 있다. 총 머리의 수는 20개, 총 다리의 수는 56개이다. 돼지와 닭의 수는 각각 얼마인가?\n",
    " * Brute force 방법으로 풀어보자."
   ]
  },
  {
   "cell_type": "code",
   "execution_count": 24,
   "metadata": {
    "collapsed": false
   },
   "outputs": [
    {
     "name": "stdout",
     "output_type": "stream",
     "text": [
      "8 12\n"
     ]
    }
   ],
   "source": [
    "for x in range(0,21):\n",
    "    y = 20 - x\n",
    "    if 4*x + 2*y == 56:\n",
    "         break\n",
    "print x, y"
   ]
  },
  {
   "cell_type": "markdown",
   "metadata": {},
   "source": [
    "### 농장 문제 – 함수\n",
    "\n",
    "* 임의의 머리 수와 다리 수가 주어졌을 때, 돼지와 닭의 수를 구하는 함수를 작성해 보자."
   ]
  },
  {
   "cell_type": "code",
   "execution_count": 25,
   "metadata": {
    "collapsed": false
   },
   "outputs": [],
   "source": [
    "def farm(numHeads, numLegs):\n",
    "    for x in range(0, numHeads + 1):\n",
    "         y = numHeads - x\n",
    "         if 4*x + 2*y == numLegs:\n",
    "              return [x, y]\n"
   ]
  },
  {
   "cell_type": "code",
   "execution_count": 26,
   "metadata": {
    "collapsed": false
   },
   "outputs": [
    {
     "name": "stdout",
     "output_type": "stream",
     "text": [
      "[8, 12]\n"
     ]
    }
   ],
   "source": [
    "print farm(20, 56)"
   ]
  },
  {
   "cell_type": "code",
   "execution_count": 27,
   "metadata": {
    "collapsed": false
   },
   "outputs": [
    {
     "name": "stdout",
     "output_type": "stream",
     "text": [
      "[10, 10]\n"
     ]
    }
   ],
   "source": [
    "print farm(20, 60)"
   ]
  },
  {
   "cell_type": "markdown",
   "metadata": {},
   "source": [
    "### None\n",
    "\n",
    "* Python에서 없는 값을 나타내기 위해 사용되는 값\n",
    "* None을 이용하여 해가 없는 경우를 대비하여 보자."
   ]
  },
  {
   "cell_type": "code",
   "execution_count": 28,
   "metadata": {
    "collapsed": false
   },
   "outputs": [
    {
     "data": {
      "text/plain": [
       "[None, None]"
      ]
     },
     "execution_count": 28,
     "metadata": {},
     "output_type": "execute_result"
    }
   ],
   "source": [
    "def farm(numHeads, numLegs):\n",
    "    for x in range(0, numHeads + 1):\n",
    "         y = numHeads - x\n",
    "         if 4*x + 2*y == numLegs:\n",
    "              return [x, y]\n",
    "    return [None, None]\n",
    "\n",
    "farm(100,10)"
   ]
  },
  {
   "cell_type": "markdown",
   "metadata": {},
   "source": [
    "* 앞의 예제에서 return이 두 번 등장함을 볼 수 있음"
   ]
  },
  {
   "cell_type": "code",
   "execution_count": 29,
   "metadata": {
    "collapsed": false
   },
   "outputs": [],
   "source": [
    "def farm(numHeads, numLegs):\n",
    "    for x in range(0, numHeads + 1):\n",
    "        y = numHeads - x\n",
    "        if 4*x + 2*y == numLegs:\n",
    "             return [x, y]\n",
    "    return [None, None]"
   ]
  },
  {
   "cell_type": "markdown",
   "metadata": {},
   "source": [
    "* 첫 번째 return은 방정식의 조건이 만족하면 다리의 숫자를 return하고 함수를 종료\n",
    "* 두 번째 return은 방정식의 조건을 만족하는 해가 없을 때 None을 반환"
   ]
  },
  {
   "cell_type": "markdown",
   "metadata": {},
   "source": [
    "### 함수를 호출하는 함수"
   ]
  },
  {
   "cell_type": "code",
   "execution_count": 31,
   "metadata": {
    "collapsed": false
   },
   "outputs": [
    {
     "name": "stdout",
     "output_type": "stream",
     "text": [
      "Enter the number of heads : 10\n",
      "Enther the number of legs : 30\n",
      "Number of pigs :  5\n",
      "Number of chickens :  5\n"
     ]
    }
   ],
   "source": [
    "def farm_UI():\n",
    "    heads = int(raw_input('Enter the number of heads : '))\n",
    "    legs = int(raw_input('Enther the number of legs : '))\n",
    "    [pigs, chickens] = farm(heads, legs)\n",
    "    if pigs == None:\n",
    "          print 'No solution'\n",
    "    else:\n",
    "          print 'Number of pigs : ', pigs\n",
    "          print 'Number of chickens : ', chickens\n",
    "        \n",
    "farm_UI()"
   ]
  },
  {
   "cell_type": "markdown",
   "metadata": {},
   "source": [
    "### Built-in function\n",
    "\n",
    "* Python에 이미 내장되어 있는 built-in function들을 활용할 수 있음\n",
    "\n",
    "* https://docs.python.org/2/library/functions.html\n",
    "\n",
    "* range(), str(), raw_input(), len(), …\n",
    "\n",
    "* max(), min(), abs(), type(), …\n",
    "\n",
    "### Module\n",
    "\n",
    "* 기본적으로 제공하는 Built-in function 외에도 module을 통하여 다양한 함수 제공\n",
    "\n",
    "* 예\n",
    "  * math 모듈\n",
    "   * 기본적인 수학 연산을 도와주는 모듈\n",
    "   * https://docs.python.org/2/library/math.html\n",
    "  * random 모듈\n",
    "   * 다양한 분포에 대한 random number를 활용할 수 있게 해주는 모듈\n",
    "   * https://docs.python.org/2/library/random.html\n",
    "\n",
    "* import 명령을 사용하여 모듈을 불러와 사용\n",
    "\n",
    "### Math module\n",
    "\n",
    "* import math\n",
    "* math.sqrt(x)\n",
    "  * x의 제곱근 반환\n",
    "* math.exp(x)\n",
    "  * e**x 반환\n",
    "* math.sin(x)\n",
    "  * sin 함수값 반환\n",
    "* math.pi\n",
    "  * 3.141592…"
   ]
  },
  {
   "cell_type": "code",
   "execution_count": 32,
   "metadata": {
    "collapsed": false
   },
   "outputs": [
    {
     "data": {
      "text/plain": [
       "8.426149773176359"
      ]
     },
     "execution_count": 32,
     "metadata": {},
     "output_type": "execute_result"
    }
   ],
   "source": [
    "import math\n",
    "math.sqrt(71)"
   ]
  },
  {
   "cell_type": "code",
   "execution_count": 33,
   "metadata": {
    "collapsed": false
   },
   "outputs": [
    {
     "data": {
      "text/plain": [
       "1.0"
      ]
     },
     "execution_count": 33,
     "metadata": {},
     "output_type": "execute_result"
    }
   ],
   "source": [
    "math.sin(math.pi/2)"
   ]
  },
  {
   "cell_type": "markdown",
   "metadata": {},
   "source": [
    "### division - 나누기\n",
    "\n",
    "* Python 2.7에서는 나누기(/)를 사용시 기본적으로 정수를 먼저 반환하려고 함.\n",
    "  * 5/2 = 2\n",
    "* 실수 나누기를 하고 싶은 경우\n",
    "  * 5/2.0 혹은 5/float(2)\n",
    "\n",
    "* 만약 default로 실수를 반환하는 나누기(/)를 사용하고 싶을 때, 다음 import문을 사용할 수 있음 "
   ]
  },
  {
   "cell_type": "code",
   "execution_count": 34,
   "metadata": {
    "collapsed": false
   },
   "outputs": [
    {
     "data": {
      "text/plain": [
       "2.5"
      ]
     },
     "execution_count": 34,
     "metadata": {},
     "output_type": "execute_result"
    }
   ],
   "source": [
    "from __future__ import division\n",
    "5/2"
   ]
  },
  {
   "cell_type": "code",
   "execution_count": 35,
   "metadata": {
    "collapsed": false
   },
   "outputs": [
    {
     "data": {
      "text/plain": [
       "2"
      ]
     },
     "execution_count": 35,
     "metadata": {},
     "output_type": "execute_result"
    }
   ],
   "source": [
    "5//2"
   ]
  },
  {
   "cell_type": "markdown",
   "metadata": {},
   "source": [
    "### Random module\n",
    "\n",
    "* import random\n",
    "* random.random()\n",
    "  * 0이상 1이하의 랜덤값 반환\n",
    "* random.uniform(a,b)\n",
    "  * a이상 b이하에서 uniform 분포를 가지는 랜덤값 반환\n",
    "* random.randint(a,b)\n",
    "  * a이상 b이하의 랜덤 정수 반환\n",
    "* random.gauss(mu, sigma), random.normalvariate(mu, sigma)\n",
    "  * 평균 mu, 표준편차 sigma의 정규 분포를 가지는 랜덤값 반환"
   ]
  },
  {
   "cell_type": "code",
   "execution_count": 36,
   "metadata": {
    "collapsed": false
   },
   "outputs": [
    {
     "data": {
      "text/plain": [
       "0.4454081159661193"
      ]
     },
     "execution_count": 36,
     "metadata": {},
     "output_type": "execute_result"
    }
   ],
   "source": [
    "import random\n",
    "random.random()"
   ]
  },
  {
   "cell_type": "code",
   "execution_count": 37,
   "metadata": {
    "collapsed": false
   },
   "outputs": [
    {
     "data": {
      "text/plain": [
       "7.125949359493178"
      ]
     },
     "execution_count": 37,
     "metadata": {},
     "output_type": "execute_result"
    }
   ],
   "source": [
    "random.uniform(0, 10)"
   ]
  },
  {
   "cell_type": "code",
   "execution_count": 38,
   "metadata": {
    "collapsed": false
   },
   "outputs": [
    {
     "data": {
      "text/plain": [
       "2"
      ]
     },
     "execution_count": 38,
     "metadata": {},
     "output_type": "execute_result"
    }
   ],
   "source": [
    "random.randint(1, 5)"
   ]
  },
  {
   "cell_type": "code",
   "execution_count": 39,
   "metadata": {
    "collapsed": false
   },
   "outputs": [
    {
     "data": {
      "text/plain": [
       "0.3842113716969823"
      ]
     },
     "execution_count": 39,
     "metadata": {},
     "output_type": "execute_result"
    }
   ],
   "source": [
    "random.gauss(0, 1)"
   ]
  },
  {
   "cell_type": "markdown",
   "metadata": {},
   "source": [
    "### t – 랜덤 변수\n",
    "\n",
    "* gauss() 함수와 gammavariate() 함수를 이용하여 t-분포를 따르는 랜덤 변수를 생성하는 함수"
   ]
  },
  {
   "cell_type": "code",
   "execution_count": 40,
   "metadata": {
    "collapsed": true
   },
   "outputs": [],
   "source": [
    "import math \n",
    "import random\n",
    "\n",
    "def student_t(nu): # nu equals number of degrees of freedom\n",
    "    x = random.gauss(0.0, 1.0)\n",
    "    y = 2.0*random.gammavariate(0.5*nu, 2.0)\n",
    "    return x / (math.sqrt(y/nu))"
   ]
  },
  {
   "cell_type": "code",
   "execution_count": 41,
   "metadata": {
    "collapsed": false
   },
   "outputs": [
    {
     "data": {
      "text/plain": [
       "0.6226480074305117"
      ]
     },
     "execution_count": 41,
     "metadata": {},
     "output_type": "execute_result"
    }
   ],
   "source": [
    "student_t(10)"
   ]
  },
  {
   "cell_type": "markdown",
   "metadata": {},
   "source": [
    "### 나만의 module 만들기\n",
    "\n",
    "* 다음의 스크립트를 fibo.py의 이름으로 현재의 working directory에 저장\n",
    "  * 나의 working directory 찾는 법 (콘솔에서 실행해보자)"
   ]
  },
  {
   "cell_type": "code",
   "execution_count": null,
   "metadata": {
    "collapsed": false
   },
   "outputs": [],
   "source": [
    "import os\n",
    "os.getcwd()"
   ]
  },
  {
   "cell_type": "markdown",
   "metadata": {},
   "source": [
    "* fibo.py에 저장할 내용"
   ]
  },
  {
   "cell_type": "code",
   "execution_count": 43,
   "metadata": {
    "collapsed": false
   },
   "outputs": [],
   "source": [
    "def fib(n):    # write Fibonacci series up to n\n",
    "    a, b = 0, 1\n",
    "    while b < n:\n",
    "        print b,\n",
    "        a, b = b, a+b "
   ]
  },
  {
   "cell_type": "markdown",
   "metadata": {},
   "source": [
    "* 위 스크립트를 working directory에 저장 후 콘솔에서 다음을 실행해 보자."
   ]
  },
  {
   "cell_type": "code",
   "execution_count": 44,
   "metadata": {
    "collapsed": false
   },
   "outputs": [
    {
     "name": "stdout",
     "output_type": "stream",
     "text": [
      "1 1 2 3 5 8 13\n"
     ]
    }
   ],
   "source": [
    "import fibo\n",
    "fibo.fib(20)"
   ]
  },
  {
   "cell_type": "markdown",
   "metadata": {},
   "source": [
    "### 모듈에 대한 여러 가지\n",
    "\n",
    "* 파이썬 스크립트 파일로 모듈을 만들 수 있음\n",
    "  * 기본 작업 directory에 저장하여 import 할 수 있음\n",
    "* 모듈 변경과 갱신\n",
    "  * 혹시 모듈을 변경하였다면 reload 명령을 이용하여 갱신\n",
    "   * reload(fibo)\n",
    "* 모듈 파일을 불러오는 다양한 방법"
   ]
  },
  {
   "cell_type": "code",
   "execution_count": 45,
   "metadata": {
    "collapsed": false
   },
   "outputs": [
    {
     "data": {
      "text/plain": [
       "3"
      ]
     },
     "execution_count": 45,
     "metadata": {},
     "output_type": "execute_result"
    }
   ],
   "source": [
    "import random  \n",
    "random.randint(1, 10)"
   ]
  },
  {
   "cell_type": "code",
   "execution_count": 46,
   "metadata": {
    "collapsed": false
   },
   "outputs": [
    {
     "data": {
      "text/plain": [
       "3"
      ]
     },
     "execution_count": 46,
     "metadata": {},
     "output_type": "execute_result"
    }
   ],
   "source": [
    "from random import *  \n",
    "randint(1, 10)"
   ]
  },
  {
   "cell_type": "code",
   "execution_count": 47,
   "metadata": {
    "collapsed": false
   },
   "outputs": [
    {
     "data": {
      "text/plain": [
       "7"
      ]
     },
     "execution_count": 47,
     "metadata": {},
     "output_type": "execute_result"
    }
   ],
   "source": [
    "import random as r   \n",
    "r.randint(1, 10)"
   ]
  }
 ],
 "metadata": {
  "kernelspec": {
   "display_name": "Python 2",
   "language": "python",
   "name": "python2"
  },
  "language_info": {
   "codemirror_mode": {
    "name": "ipython",
    "version": 2
   },
   "file_extension": ".py",
   "mimetype": "text/x-python",
   "name": "python",
   "nbconvert_exporter": "python",
   "pygments_lexer": "ipython2",
   "version": "2.7.13"
  }
 },
 "nbformat": 4,
 "nbformat_minor": 0
}
